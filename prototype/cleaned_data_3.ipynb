{
 "cells": [
  {
   "cell_type": "markdown",
   "id": "49c3dc29-66bf-4663-8439-08f1fa98f871",
   "metadata": {},
   "source": [
    "<div>\n",
    "    <img src='../pics/banner.PNG'/>\n",
    "</div>\n",
    "<div>\n",
    "    <img width=\"10%\" height=\"10%\" src='../pics/python-programming.png'/>\n",
    "    <img src='../pics/miw.PNG'/>\n",
    "</div>\n",
    "<div>\n",
    "    <em>Author: Jeroen Boogaard</em>\n",
    "</div>"
   ]
  },
  {
   "cell_type": "markdown",
   "id": "2dead3f3-b6e8-4528-a00d-e53be157bf3e",
   "metadata": {},
   "source": [
    "<h2>Imports<h2>"
   ]
  },
  {
   "cell_type": "code",
   "execution_count": 42,
   "id": "cb4ceef7-a3dd-4b2f-a57f-593190911236",
   "metadata": {
    "tags": []
   },
   "outputs": [
    {
     "name": "stdout",
     "output_type": "stream",
     "text": [
      "django-rest-framework         0.1.0\n",
      "djangorestframework           3.14.0\n"
     ]
    },
    {
     "data": {
      "text/plain": [
       "0"
      ]
     },
     "execution_count": 42,
     "metadata": {},
     "output_type": "execute_result"
    }
   ],
   "source": [
    "from os import system as sys\n",
    "sys('pip list | grep django || pip install --upgrade -r requirements.txt')"
   ]
  },
  {
   "cell_type": "code",
   "execution_count": 43,
   "id": "aefe8f36-d422-4cb9-b302-882954032426",
   "metadata": {
    "tags": []
   },
   "outputs": [],
   "source": [
    "import pandas as pd\n",
    "import seaborn as sns\n",
    "import requests\n",
    "import sqlite3\n",
    "import numpy as np"
   ]
  },
  {
   "cell_type": "markdown",
   "id": "15e80288-e20d-4bbe-adf5-56f9ed9791f6",
   "metadata": {},
   "source": [
    "<h3>Global variables</h3>"
   ]
  },
  {
   "cell_type": "code",
   "execution_count": 44,
   "id": "955a3dce-30a3-4945-96d9-20472ed44e22",
   "metadata": {},
   "outputs": [],
   "source": [
    "dbName = \"../rest_server/medisch_centrum_randstad/db.sqlite3\"\n",
    "tableName = \"rest_api_netlify\"\n",
    "url = \"http://localhost:8080/medish_centrum_randstad/api/netlify?page=1\"\n",
    "csvFile = \"../rest_server/medisch_centrum_randstad/data/data.csv\""
   ]
  },
  {
   "cell_type": "markdown",
   "id": "0d63c78d-f840-4121-84b4-f933db4b8ca5",
   "metadata": {},
   "source": [
    "<h2>Data Collection</h2>\n",
    "<img width=\"30%\" height=\"30%\" src=\"../pics/collect.jpg\"/>\n",
    "<p>De data kan op 3 manieren verzameld worden, dat zijn (op volgorde van kwaliteit van de verzamelingsmethode):</p>"
   ]
  },
  {
   "cell_type": "markdown",
   "id": "445ee668-ee99-4807-b577-9e15eb5c3cfb",
   "metadata": {},
   "source": [
    "<h3>1. Query SQLite Database</h3>"
   ]
  },
  {
   "cell_type": "code",
   "execution_count": 45,
   "id": "3f768681-793a-40d2-a1c5-0b51e9e45e46",
   "metadata": {},
   "outputs": [],
   "source": [
    "dbConnection = sqlite3.connect(dbName)"
   ]
  },
  {
   "cell_type": "code",
   "execution_count": 46,
   "id": "3d106280-2e5b-4b80-9ca4-d03f180e5031",
   "metadata": {
    "tags": []
   },
   "outputs": [],
   "source": [
    "dfFromDB = pd.read_sql_query(f\"SELECT * FROM {tableName}\", dbConnection)\n",
    "pd.set_option('display.max_columns', 10)"
   ]
  },
  {
   "cell_type": "code",
   "execution_count": 47,
   "id": "4e533eac",
   "metadata": {},
   "outputs": [],
   "source": [
    "dbConnection.close()"
   ]
  },
  {
   "cell_type": "markdown",
   "id": "2c8bb809-230b-4521-bc94-947a5fd27115",
   "metadata": {},
   "source": [
    "<h3>2. Collect Data from REST API Server</h3>"
   ]
  },
  {
   "cell_type": "code",
   "execution_count": 48,
   "id": "595dd943-520d-4d28-a6dc-9338f8cd4dae",
   "metadata": {},
   "outputs": [],
   "source": [
    "page1 = requests.get(url).json()"
   ]
  },
  {
   "cell_type": "code",
   "execution_count": 49,
   "id": "cf94655d-e309-4901-8a62-7956e5e015bd",
   "metadata": {
    "tags": []
   },
   "outputs": [],
   "source": [
    "dfFromAPI = pd.DataFrame(page1['data'])"
   ]
  },
  {
   "cell_type": "markdown",
   "id": "17dfd6a7-8733-4438-9193-5d0d49289ab0",
   "metadata": {},
   "source": [
    "<h3>3. Collect Data from CSV</h3>"
   ]
  },
  {
   "cell_type": "code",
   "execution_count": 50,
   "id": "50ef318a-742f-43f4-a1af-13a3d20ed262",
   "metadata": {
    "tags": []
   },
   "outputs": [],
   "source": [
    "# # pull from .csv not in use atm \n",
    "# dfFromCSV = pd.read_csv(csvFile)"
   ]
  },
  {
   "attachments": {},
   "cell_type": "markdown",
   "id": "a161ab02",
   "metadata": {},
   "source": [
    "\n",
    "<h3>4. Show Data.head</h3>"
   ]
  },
  {
   "cell_type": "code",
   "execution_count": 60,
   "id": "d1958b1a",
   "metadata": {},
   "outputs": [
    {
     "data": {
      "text/html": [
       "<div>\n",
       "<style scoped>\n",
       "    .dataframe tbody tr th:only-of-type {\n",
       "        vertical-align: middle;\n",
       "    }\n",
       "\n",
       "    .dataframe tbody tr th {\n",
       "        vertical-align: top;\n",
       "    }\n",
       "\n",
       "    .dataframe thead th {\n",
       "        text-align: right;\n",
       "    }\n",
       "</style>\n",
       "<table border=\"1\" class=\"dataframe\">\n",
       "  <thead>\n",
       "    <tr style=\"text-align: right;\">\n",
       "      <th></th>\n",
       "      <th>genetic</th>\n",
       "      <th>length</th>\n",
       "      <th>mass</th>\n",
       "      <th>exercise</th>\n",
       "      <th>smoking</th>\n",
       "      <th>alcohol</th>\n",
       "      <th>sugar</th>\n",
       "      <th>lifespan</th>\n",
       "    </tr>\n",
       "  </thead>\n",
       "  <tbody>\n",
       "    <tr>\n",
       "      <th>0</th>\n",
       "      <td>73.9</td>\n",
       "      <td>185.0</td>\n",
       "      <td>99.7</td>\n",
       "      <td>0.9</td>\n",
       "      <td>0.0</td>\n",
       "      <td>2.4</td>\n",
       "      <td>6.9</td>\n",
       "      <td>73.1</td>\n",
       "    </tr>\n",
       "    <tr>\n",
       "      <th>1</th>\n",
       "      <td>86.0</td>\n",
       "      <td>172.0</td>\n",
       "      <td>105.4</td>\n",
       "      <td>1.8</td>\n",
       "      <td>8.1</td>\n",
       "      <td>0.4</td>\n",
       "      <td>4.2</td>\n",
       "      <td>85.0</td>\n",
       "    </tr>\n",
       "    <tr>\n",
       "      <th>2</th>\n",
       "      <td>83.3</td>\n",
       "      <td>176.0</td>\n",
       "      <td>111.4</td>\n",
       "      <td>1.1</td>\n",
       "      <td>0.8</td>\n",
       "      <td>4.6</td>\n",
       "      <td>7.5</td>\n",
       "      <td>81.6</td>\n",
       "    </tr>\n",
       "    <tr>\n",
       "      <th>3</th>\n",
       "      <td>82.8</td>\n",
       "      <td>164.0</td>\n",
       "      <td>111.4</td>\n",
       "      <td>4.7</td>\n",
       "      <td>11.8</td>\n",
       "      <td>1.0</td>\n",
       "      <td>2.9</td>\n",
       "      <td>81.0</td>\n",
       "    </tr>\n",
       "    <tr>\n",
       "      <th>4</th>\n",
       "      <td>78.7</td>\n",
       "      <td>178.0</td>\n",
       "      <td>71.6</td>\n",
       "      <td>1.5</td>\n",
       "      <td>8.3</td>\n",
       "      <td>4.9</td>\n",
       "      <td>5.5</td>\n",
       "      <td>75.0</td>\n",
       "    </tr>\n",
       "  </tbody>\n",
       "</table>\n",
       "</div>"
      ],
      "text/plain": [
       "   genetic  length   mass  exercise  smoking  alcohol  sugar  lifespan\n",
       "0     73.9   185.0   99.7       0.9      0.0      2.4    6.9      73.1\n",
       "1     86.0   172.0  105.4       1.8      8.1      0.4    4.2      85.0\n",
       "2     83.3   176.0  111.4       1.1      0.8      4.6    7.5      81.6\n",
       "3     82.8   164.0  111.4       4.7     11.8      1.0    2.9      81.0\n",
       "4     78.7   178.0   71.6       1.5      8.3      4.9    5.5      75.0"
      ]
     },
     "metadata": {},
     "output_type": "display_data"
    }
   ],
   "source": [
    "display(dfFromAPI.head())\n"
   ]
  },
  {
   "attachments": {},
   "cell_type": "markdown",
   "id": "db4d8dc1",
   "metadata": {},
   "source": [
    "<h3>5. Data manipulations</h3>"
   ]
  },
  {
   "cell_type": "code",
   "execution_count": 52,
   "id": "43c6e72a",
   "metadata": {},
   "outputs": [],
   "source": [
    "df=dfFromAPI.copy()\n"
   ]
  },
  {
   "cell_type": "code",
   "execution_count": 53,
   "id": "4249729c",
   "metadata": {},
   "outputs": [
    {
     "data": {
      "text/plain": [
       "<AxesSubplot: >"
      ]
     },
     "execution_count": 53,
     "metadata": {},
     "output_type": "execute_result"
    },
    {
     "data": {
      "image/png": "[encoded data removed]",
      "text/plain": [
       "<Figure size 640x480 with 1 Axes>"
      ]
     },
     "metadata": {},
     "output_type": "display_data"
    }
   ],
   "source": [
    "# got any outliers?\n",
    "\n",
    "sns.boxplot(data=df.iloc[:,1:])\n",
    "#... alles buiten de lijnen is een outlier. \n"
   ]
  },
  {
   "cell_type": "code",
   "execution_count": 54,
   "metadata": {},
   "outputs": [],
   "source": [
    "# the df will be the old df where we apply changed with a lambda to apply pd.to_numeric where non numbers will be coerced to NaN for those columns were dtype is object.  \n",
    "df = df.apply(lambda x: pd.to_numeric(x, errors='coerce') if x.dtype == 'object' else x)\n",
    "\n",
    "# ... change the dtype to float 64\n",
    "df = df.apply(lambda x: pd.astype('float64') if x.dtype == 'object' else x)\n"
   ]
  },
  {
   "cell_type": "code",
   "execution_count": 55,
   "id": "6b277307",
   "metadata": {},
   "outputs": [
    {
     "name": "stdout",
     "output_type": "stream",
     "text": [
      "<class 'pandas.core.frame.DataFrame'>\n",
      "RangeIndex: 4096 entries, 0 to 4095\n",
      "Data columns (total 8 columns):\n",
      " #   Column    Non-Null Count  Dtype  \n",
      "---  ------    --------------  -----  \n",
      " 0   genetic   4095 non-null   float64\n",
      " 1   length    4093 non-null   float64\n",
      " 2   mass      4094 non-null   float64\n",
      " 3   exercise  4095 non-null   float64\n",
      " 4   smoking   4096 non-null   float64\n",
      " 5   alcohol   4094 non-null   float64\n",
      " 6   sugar     4095 non-null   float64\n",
      " 7   lifespan  4094 non-null   float64\n",
      "dtypes: float64(8)\n",
      "memory usage: 256.1 KB\n"
     ]
    },
    {
     "data": {
      "text/plain": [
       "None"
      ]
     },
     "metadata": {},
     "output_type": "display_data"
    }
   ],
   "source": [
    "df3=df.copy()  \n",
    "display(df3.info())\n",
    "\n",
    "# print(df.isna().sum()), print(df3.isna().sum())"
   ]
  },
  {
   "cell_type": "code",
   "execution_count": 56,
   "id": "62355679",
   "metadata": {},
   "outputs": [],
   "source": [
    "df3_contains_NaN = df3.loc[df3.isna().any(axis=1)]"
   ]
  },
  {
   "attachments": {},
   "cell_type": "markdown",
   "id": "d3946ff8",
   "metadata": {},
   "source": [
    "<3> BMI wil be generated before we clip on |std*2| to prevent data loss and for cases where length is extreme in one direction and mass in the other but under |std*2| leading to an extreme in bmi over |std*2| </3>"
   ]
  },
  {
   "cell_type": "code",
   "execution_count": 57,
   "id": "d616ec3e",
   "metadata": {},
   "outputs": [],
   "source": [
    "# New Feature BMI (kg/m^2)\n",
    "df3['bmi'] = df['mass']/(df['length']/100)**2"
   ]
  },
  {
   "cell_type": "code",
   "execution_count": 58,
   "id": "8478ce11",
   "metadata": {},
   "outputs": [
    {
     "name": "stdout",
     "output_type": "stream",
     "text": [
      "genetic     1\n",
      "length      3\n",
      "mass        2\n",
      "exercise    1\n",
      "smoking     0\n",
      "alcohol     2\n",
      "sugar       1\n",
      "lifespan    2\n",
      "bmi         5\n",
      "dtype: int64\n",
      "genetic     1\n",
      "length      3\n",
      "mass        2\n",
      "exercise    1\n",
      "smoking     0\n",
      "alcohol     2\n",
      "sugar       1\n",
      "lifespan    2\n",
      "bmi         5\n",
      "dtype: int64\n"
     ]
    }
   ],
   "source": [
    "print(df3.isna().sum())\n",
    "print(df3.isnull().sum())"
   ]
  },
  {
   "cell_type": "code",
   "execution_count": 59,
   "id": "a154536e",
   "metadata": {},
   "outputs": [
    {
     "name": "stdout",
     "output_type": "stream",
     "text": [
      "genetic      77.600000\n",
      "length      175.000000\n",
      "mass         71.500000\n",
      "exercise      1.500000\n",
      "smoking       3.300000\n",
      "alcohol       0.600000\n",
      "sugar         4.400000\n",
      "lifespan     75.000000\n",
      "bmi          20.933229\n",
      "Name: 0.25, dtype: float64\n",
      "genetic     130.050000\n",
      "length      289.500000\n",
      "mass        166.312500\n",
      "exercise      4.800000\n",
      "smoking      23.850000\n",
      "alcohol       6.000000\n",
      "sugar        12.600000\n",
      "lifespan    127.800000\n",
      "bmi          49.820527\n",
      "Name: 0.75, dtype: float64\n"
     ]
    },
    {
     "ename": "NameError",
     "evalue": "name 'mean' is not defined",
     "output_type": "error",
     "traceback": [
      "\u001b[0;31m---------------------------------------------------------------------------\u001b[0m",
      "\u001b[0;31mNameError\u001b[0m                                 Traceback (most recent call last)",
      "Cell \u001b[0;32mIn[59], line 11\u001b[0m\n\u001b[1;32m      8\u001b[0m \u001b[39mprint\u001b[39m(Q1)\n\u001b[1;32m      9\u001b[0m \u001b[39mprint\u001b[39m(Q3\u001b[39m*\u001b[39m\u001b[39m1.5\u001b[39m)\n\u001b[0;32m---> 11\u001b[0m df3 \u001b[39m=\u001b[39m df3\u001b[39m.\u001b[39mclip(lower\u001b[39m=\u001b[39mmean\u001b[39m-\u001b[39m\u001b[39m1.5\u001b[39m\u001b[39m*\u001b[39mIQR, upper\u001b[39m=\u001b[39mmean\u001b[39m+\u001b[39m\u001b[39m1.5\u001b[39m\u001b[39m*\u001b[39mIQR, axis\u001b[39m=\u001b[39m\u001b[39m1\u001b[39m)\n\u001b[1;32m     12\u001b[0m display (df3)\n",
      "\u001b[0;31mNameError\u001b[0m: name 'mean' is not defined"
     ]
    }
   ],
   "source": [
    "# clip of the \n",
    "\n",
    "# Computing IQR\n",
    "Q1 = df3.quantile(0.25)\n",
    "Q3 = df3.quantile(0.75)\n",
    "IQR = Q3 - Q1\n",
    "\n",
    "print(Q1)\n",
    "print(Q3*1.5)\n",
    "\n",
    "df3 = df3.clip(lower=mean-1.5*IQR, upper=mean+1.5*IQR, axis=1)\n",
    "display (df3)"
   ]
  },
  {
   "cell_type": "code",
   "execution_count": null,
   "id": "91393f27",
   "metadata": {},
   "outputs": [],
   "source": [
    "# replace NaN with mean\n",
    "\n",
    "\n",
    "# Compute the mean of each column and replace NaN values with the mean\n",
    "df3.fillna(df3.mean(), inplace=True)\n",
    "\n"
   ]
  },
  {
   "cell_type": "code",
   "execution_count": null,
   "id": "942bb5a3",
   "metadata": {},
   "outputs": [],
   "source": [
    "# # cutof 2*std not curretly in use. \n",
    "\n",
    "# # Compute the mean and standard deviation of each column\n",
    "# mean = df3.mean()\n",
    "# print (mean)\n",
    "# std = df3.std()\n",
    "# print (std)\n",
    "\n",
    "# # Replace values more than 2 standard deviations away from the mean\n",
    "# df3 = df3.clip(lower=mean-2*std, upper=mean+2*std, axis=1)\n",
    "# display (df3)\n",
    "\n"
   ]
  },
  {
   "cell_type": "code",
   "execution_count": null,
   "id": "f7b3707b",
   "metadata": {},
   "outputs": [],
   "source": [
    "# Connect to SQLite database\n",
    "dbConnection = sqlite3.connect('../rest_server_new/medisch_centrum_randstad/db.sqlite3')"
   ]
  },
  {
   "cell_type": "code",
   "execution_count": null,
   "id": "a62cb0cb",
   "metadata": {},
   "outputs": [],
   "source": [
    "df3.to_sql('cleaned_data_3', dbConnection, if_exists='replace', index = False)"
   ]
  },
  {
   "cell_type": "code",
   "execution_count": null,
   "id": "70d0013f",
   "metadata": {},
   "outputs": [],
   "source": [
    "dbConnection.close()"
   ]
  }
 ],
 "metadata": {
  "kernelspec": {
   "display_name": "Python 3 (ipykernel)",
   "language": "python",
   "name": "python3"
  },
  "language_info": {
   "codemirror_mode": {
    "name": "ipython",
    "version": 3
   },
   "file_extension": ".py",
   "mimetype": "text/x-python",
   "name": "python",
   "nbconvert_exporter": "python",
   "pygments_lexer": "ipython3",
   "version": "3.10.9"
  }
 },
 "nbformat": 4,
 "nbformat_minor": 5
}
