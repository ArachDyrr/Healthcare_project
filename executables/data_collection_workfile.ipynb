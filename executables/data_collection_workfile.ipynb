{
 "cells": [
  {
   "cell_type": "markdown",
   "id": "49c3dc29-66bf-4663-8439-08f1fa98f871",
   "metadata": {},
   "source": [
    "<div>\n",
    "    <img src='../pics/banner.PNG'/>\n",
    "</div>\n",
    "<div>\n",
    "    <img width=\"10%\" height=\"10%\" src='../pics/python-programming.png'/>\n",
    "    <img src='../pics/miw.PNG'/>\n",
    "</div>\n",
    "<div>\n",
    "    <em>Author: Jeroen Boogaard</em>\n",
    "</div>"
   ]
  },
  {
   "cell_type": "markdown",
   "id": "2dead3f3-b6e8-4528-a00d-e53be157bf3e",
   "metadata": {},
   "source": [
    "<h2>Imports<h2>"
   ]
  },
  {
   "cell_type": "code",
   "execution_count": 252,
   "id": "cb4ceef7-a3dd-4b2f-a57f-593190911236",
   "metadata": {
    "tags": []
   },
   "outputs": [
    {
     "name": "stdout",
     "output_type": "stream",
     "text": [
      "django-rest-framework         0.1.0\n",
      "djangorestframework           3.14.0\n"
     ]
    },
    {
     "data": {
      "text/plain": [
       "0"
      ]
     },
     "execution_count": 252,
     "metadata": {},
     "output_type": "execute_result"
    }
   ],
   "source": [
    "from os import system as sys\n",
    "sys('pip list | grep django || pip install --upgrade -r requirements.txt')"
   ]
  },
  {
   "cell_type": "code",
   "execution_count": 253,
   "id": "aefe8f36-d422-4cb9-b302-882954032426",
   "metadata": {
    "tags": []
   },
   "outputs": [],
   "source": [
    "import pandas as pd\n",
    "import requests\n",
    "import sqlite3\n",
    "import numpy as np"
   ]
  },
  {
   "cell_type": "markdown",
   "id": "15e80288-e20d-4bbe-adf5-56f9ed9791f6",
   "metadata": {},
   "source": [
    "<h3>Global variables</h3>"
   ]
  },
  {
   "cell_type": "code",
   "execution_count": 254,
   "id": "955a3dce-30a3-4945-96d9-20472ed44e22",
   "metadata": {},
   "outputs": [],
   "source": [
    "dbName = \"../rest_server/medisch_centrum_randstad/db.sqlite3\"\n",
    "tableName = \"rest_api_netlify\"\n",
    "url = \"http://localhost:8080/medish_centrum_randstad/api/netlify?page=1\"\n",
    "csvFile = \"../rest_server/medisch_centrum_randstad/data/data.csv\""
   ]
  },
  {
   "cell_type": "markdown",
   "id": "0d63c78d-f840-4121-84b4-f933db4b8ca5",
   "metadata": {},
   "source": [
    "<h2>Data Collection</h2>\n",
    "<img width=\"30%\" height=\"30%\" src=\"../pics/collect.jpg\"/>\n",
    "<p>De data kan op 3 manieren verzameld worden, dat zijn (op volgorde van kwaliteit van de verzamelingsmethode):</p>"
   ]
  },
  {
   "cell_type": "markdown",
   "id": "445ee668-ee99-4807-b577-9e15eb5c3cfb",
   "metadata": {},
   "source": [
    "<h3>1. Query SQLite Database</h3>"
   ]
  },
  {
   "cell_type": "code",
   "execution_count": 255,
   "id": "3f768681-793a-40d2-a1c5-0b51e9e45e46",
   "metadata": {},
   "outputs": [],
   "source": [
    "dbConnection = sqlite3.connect(dbName)"
   ]
  },
  {
   "cell_type": "code",
   "execution_count": 256,
   "id": "3d106280-2e5b-4b80-9ca4-d03f180e5031",
   "metadata": {
    "tags": []
   },
   "outputs": [],
   "source": [
    "dfFromDB = pd.read_sql_query(f\"SELECT * FROM {tableName}\", dbConnection)\n",
    "pd.set_option('display.max_columns', 10)"
   ]
  },
  {
   "cell_type": "code",
   "execution_count": 257,
   "id": "4e533eac",
   "metadata": {},
   "outputs": [],
   "source": [
    "dbConnection.close()"
   ]
  },
  {
   "cell_type": "markdown",
   "id": "2c8bb809-230b-4521-bc94-947a5fd27115",
   "metadata": {},
   "source": [
    "<h3>2. Collect Data from REST API Server</h3>"
   ]
  },
  {
   "cell_type": "code",
   "execution_count": 258,
   "id": "595dd943-520d-4d28-a6dc-9338f8cd4dae",
   "metadata": {},
   "outputs": [],
   "source": [
    "page1 = requests.get(url).json()"
   ]
  },
  {
   "cell_type": "code",
   "execution_count": 259,
   "id": "cf94655d-e309-4901-8a62-7956e5e015bd",
   "metadata": {
    "tags": []
   },
   "outputs": [],
   "source": [
    "dfFromAPI = pd.DataFrame(page1['data'])"
   ]
  },
  {
   "cell_type": "code",
   "execution_count": null,
   "id": "ff8cb940",
   "metadata": {},
   "outputs": [],
   "source": []
  },
  {
   "cell_type": "markdown",
   "id": "17dfd6a7-8733-4438-9193-5d0d49289ab0",
   "metadata": {},
   "source": [
    "<h3>3. Collect Data from CSV</h3>"
   ]
  },
  {
   "cell_type": "code",
   "execution_count": 260,
   "id": "50ef318a-742f-43f4-a1af-13a3d20ed262",
   "metadata": {
    "tags": []
   },
   "outputs": [],
   "source": [
    "# # pull from .csv not in use atm \n",
    "# dfFromCSV = pd.read_csv(csvFile)"
   ]
  },
  {
   "attachments": {},
   "cell_type": "markdown",
   "id": "a161ab02",
   "metadata": {},
   "source": [
    "\n",
    "<h3>4. Show Data.head</h3>"
   ]
  },
  {
   "cell_type": "code",
   "execution_count": 261,
   "id": "d1958b1a",
   "metadata": {},
   "outputs": [
    {
     "data": {
      "text/html": [
       "<div>\n",
       "<style scoped>\n",
       "    .dataframe tbody tr th:only-of-type {\n",
       "        vertical-align: middle;\n",
       "    }\n",
       "\n",
       "    .dataframe tbody tr th {\n",
       "        vertical-align: top;\n",
       "    }\n",
       "\n",
       "    .dataframe thead th {\n",
       "        text-align: right;\n",
       "    }\n",
       "</style>\n",
       "<table border=\"1\" class=\"dataframe\">\n",
       "  <thead>\n",
       "    <tr style=\"text-align: right;\">\n",
       "      <th></th>\n",
       "      <th>id</th>\n",
       "      <th>genetic</th>\n",
       "      <th>length</th>\n",
       "      <th>mass</th>\n",
       "      <th>exercise</th>\n",
       "      <th>smoking</th>\n",
       "      <th>alcohol</th>\n",
       "      <th>lifespan</th>\n",
       "      <th>sugar</th>\n",
       "    </tr>\n",
       "  </thead>\n",
       "  <tbody>\n",
       "    <tr>\n",
       "      <th>0</th>\n",
       "      <td>1</td>\n",
       "      <td>73.9</td>\n",
       "      <td>185.0</td>\n",
       "      <td>99.7</td>\n",
       "      <td>0.9</td>\n",
       "      <td>0.0</td>\n",
       "      <td>2.4</td>\n",
       "      <td>73.1</td>\n",
       "      <td>6.9</td>\n",
       "    </tr>\n",
       "    <tr>\n",
       "      <th>1</th>\n",
       "      <td>2</td>\n",
       "      <td>86.0</td>\n",
       "      <td>172.0</td>\n",
       "      <td>105.4</td>\n",
       "      <td>1.8</td>\n",
       "      <td>8.1</td>\n",
       "      <td>0.4</td>\n",
       "      <td>85.0</td>\n",
       "      <td>4.2</td>\n",
       "    </tr>\n",
       "    <tr>\n",
       "      <th>2</th>\n",
       "      <td>3</td>\n",
       "      <td>83.3</td>\n",
       "      <td>176.0</td>\n",
       "      <td>111.4</td>\n",
       "      <td>1.1</td>\n",
       "      <td>0.8</td>\n",
       "      <td>4.6</td>\n",
       "      <td>81.6</td>\n",
       "      <td>7.5</td>\n",
       "    </tr>\n",
       "    <tr>\n",
       "      <th>3</th>\n",
       "      <td>4</td>\n",
       "      <td>82.8</td>\n",
       "      <td>164.0</td>\n",
       "      <td>111.4</td>\n",
       "      <td>4.7</td>\n",
       "      <td>11.8</td>\n",
       "      <td>1.0</td>\n",
       "      <td>81.0</td>\n",
       "      <td>2.9</td>\n",
       "    </tr>\n",
       "    <tr>\n",
       "      <th>4</th>\n",
       "      <td>5</td>\n",
       "      <td>78.7</td>\n",
       "      <td>178.0</td>\n",
       "      <td>71.6</td>\n",
       "      <td>1.5</td>\n",
       "      <td>8.3</td>\n",
       "      <td>4.9</td>\n",
       "      <td>75.0</td>\n",
       "      <td>5.5</td>\n",
       "    </tr>\n",
       "  </tbody>\n",
       "</table>\n",
       "</div>"
      ],
      "text/plain": [
       "   id  genetic  length   mass  exercise  smoking  alcohol  lifespan  sugar\n",
       "0   1     73.9   185.0   99.7       0.9      0.0      2.4      73.1    6.9\n",
       "1   2     86.0   172.0  105.4       1.8      8.1      0.4      85.0    4.2\n",
       "2   3     83.3   176.0  111.4       1.1      0.8      4.6      81.6    7.5\n",
       "3   4     82.8   164.0  111.4       4.7     11.8      1.0      81.0    2.9\n",
       "4   5     78.7   178.0   71.6       1.5      8.3      4.9      75.0    5.5"
      ]
     },
     "metadata": {},
     "output_type": "display_data"
    }
   ],
   "source": [
    "display(dfFromDB.head())\n"
   ]
  },
  {
   "attachments": {},
   "cell_type": "markdown",
   "id": "db4d8dc1",
   "metadata": {},
   "source": [
    "<h3>5. Data manipulations</h3>"
   ]
  },
  {
   "cell_type": "code",
   "execution_count": 262,
   "id": "43c6e72a",
   "metadata": {},
   "outputs": [],
   "source": [
    "df=dfFromAPI.copy()\n"
   ]
  },
  {
   "cell_type": "code",
   "execution_count": 263,
   "id": "0e257b53",
   "metadata": {},
   "outputs": [
    {
     "name": "stdout",
     "output_type": "stream",
     "text": [
      "Number of duplicate rows:  (0, 8)\n",
      "There are no unexcpected duplicates\n"
     ]
    }
   ],
   "source": [
    "# ... a check to see if there are duplicates in the data.\n",
    "# ... print the shape of the df\n",
    "# ... report the duplicates and ask if you want the duplicates to be deleted. \n",
    "\n",
    "duplicate_rows_df = df[df.duplicated()]\n",
    "print (\"Number of duplicate rows: \", duplicate_rows_df.shape)\n",
    "\n",
    "if duplicate_rows_df.shape == (0, 8):\n",
    "    print ('There are no unexcpected duplicates')\n",
    "else:\n",
    "    print ('There are unexcpected duplicates please look at the data')\n",
    "    print(duplicate_rows_df)\n",
    "    x=input('Do you want to delete the duplicates? Y/n') \n",
    "    if x == 'Y':\n",
    "        df=df.drop_duplicates()"
   ]
  },
  {
   "cell_type": "code",
   "execution_count": 264,
   "metadata": {},
   "outputs": [],
   "source": [
    "# the df will be the old df where we apply changed with a lambda to apply pd.to_numeric where non numbers will be coerced to NaN for those columns were dtype is object.  \n",
    "df = df.apply(lambda x: pd.to_numeric(x, errors='coerce') if x.dtype == 'object' else x)\n",
    "\n",
    "# ... change the dtype to float 64\n",
    "df = df.apply(lambda x: pd.astype('float64') if x.dtype == 'object' else x)\n"
   ]
  },
  {
   "cell_type": "code",
   "execution_count": 265,
   "id": "6b277307",
   "metadata": {},
   "outputs": [
    {
     "name": "stdout",
     "output_type": "stream",
     "text": [
      "<class 'pandas.core.frame.DataFrame'>\n",
      "RangeIndex: 4096 entries, 0 to 4095\n",
      "Data columns (total 8 columns):\n",
      " #   Column    Non-Null Count  Dtype  \n",
      "---  ------    --------------  -----  \n",
      " 0   genetic   4095 non-null   float64\n",
      " 1   length    4093 non-null   float64\n",
      " 2   mass      4094 non-null   float64\n",
      " 3   exercise  4095 non-null   float64\n",
      " 4   smoking   4096 non-null   float64\n",
      " 5   alcohol   4094 non-null   float64\n",
      " 6   sugar     4095 non-null   float64\n",
      " 7   lifespan  4094 non-null   float64\n",
      "dtypes: float64(8)\n",
      "memory usage: 256.1 KB\n"
     ]
    },
    {
     "data": {
      "text/plain": [
       "None"
      ]
     },
     "metadata": {},
     "output_type": "display_data"
    }
   ],
   "source": [
    "df3=df.copy()  \n",
    "display(df3.info())\n",
    "\n",
    "# print(df.isna().sum()), print(df3.isna().sum())"
   ]
  },
  {
   "cell_type": "code",
   "execution_count": 266,
   "id": "62355679",
   "metadata": {},
   "outputs": [],
   "source": [
    "df3_contains_NaN = df3.loc[df3.isna().any(axis=1)]"
   ]
  },
  {
   "attachments": {},
   "cell_type": "markdown",
   "id": "d3946ff8",
   "metadata": {},
   "source": [
    "<3> BMI wil be generated before we clip on |std*2| to prevent data loss and for cases where length is extreme in one direction and mass in the other but under |std*2| leading to an extreme in bmi over |std*2| </3>"
   ]
  },
  {
   "cell_type": "code",
   "execution_count": 267,
   "id": "d616ec3e",
   "metadata": {},
   "outputs": [],
   "source": [
    "# New Feature BMI (kg/m^2)\n",
    "df3['bmi'] = df['mass']/(df['length']/100)**2"
   ]
  },
  {
   "cell_type": "code",
   "execution_count": 268,
   "id": "8478ce11",
   "metadata": {},
   "outputs": [
    {
     "name": "stdout",
     "output_type": "stream",
     "text": [
      "genetic     1\n",
      "length      3\n",
      "mass        2\n",
      "exercise    1\n",
      "smoking     0\n",
      "alcohol     2\n",
      "sugar       1\n",
      "lifespan    2\n",
      "bmi         5\n",
      "dtype: int64\n",
      "genetic     1\n",
      "length      3\n",
      "mass        2\n",
      "exercise    1\n",
      "smoking     0\n",
      "alcohol     2\n",
      "sugar       1\n",
      "lifespan    2\n",
      "bmi         5\n",
      "dtype: int64\n"
     ]
    }
   ],
   "source": [
    "print(df3.isna().sum())\n",
    "print(df3.isnull().sum())"
   ]
  },
  {
   "cell_type": "code",
   "execution_count": 269,
   "id": "a154536e",
   "metadata": {},
   "outputs": [
    {
     "name": "stdout",
     "output_type": "stream",
     "text": [
      "genetic      77.600000\n",
      "length      175.000000\n",
      "mass         71.500000\n",
      "exercise      1.500000\n",
      "smoking       3.300000\n",
      "alcohol       0.600000\n",
      "sugar         4.400000\n",
      "lifespan     75.000000\n",
      "bmi          20.933229\n",
      "Name: 0.25, dtype: float64\n",
      "genetic     130.050000\n",
      "length      289.500000\n",
      "mass        166.312500\n",
      "exercise      4.800000\n",
      "smoking      23.850000\n",
      "alcohol       6.000000\n",
      "sugar        12.600000\n",
      "lifespan    127.800000\n",
      "bmi          49.820527\n",
      "Name: 0.75, dtype: float64\n"
     ]
    },
    {
     "data": {
      "text/html": [
       "<div>\n",
       "<style scoped>\n",
       "    .dataframe tbody tr th:only-of-type {\n",
       "        vertical-align: middle;\n",
       "    }\n",
       "\n",
       "    .dataframe tbody tr th {\n",
       "        vertical-align: top;\n",
       "    }\n",
       "\n",
       "    .dataframe thead th {\n",
       "        text-align: right;\n",
       "    }\n",
       "</style>\n",
       "<table border=\"1\" class=\"dataframe\">\n",
       "  <thead>\n",
       "    <tr style=\"text-align: right;\">\n",
       "      <th></th>\n",
       "      <th>genetic</th>\n",
       "      <th>length</th>\n",
       "      <th>mass</th>\n",
       "      <th>exercise</th>\n",
       "      <th>smoking</th>\n",
       "      <th>alcohol</th>\n",
       "      <th>sugar</th>\n",
       "      <th>lifespan</th>\n",
       "      <th>bmi</th>\n",
       "    </tr>\n",
       "  </thead>\n",
       "  <tbody>\n",
       "    <tr>\n",
       "      <th>0</th>\n",
       "      <td>73.900000</td>\n",
       "      <td>185.0</td>\n",
       "      <td>99.7</td>\n",
       "      <td>0.9</td>\n",
       "      <td>0.0</td>\n",
       "      <td>2.4</td>\n",
       "      <td>6.9</td>\n",
       "      <td>73.100000</td>\n",
       "      <td>29.130752</td>\n",
       "    </tr>\n",
       "    <tr>\n",
       "      <th>1</th>\n",
       "      <td>86.000000</td>\n",
       "      <td>172.0</td>\n",
       "      <td>105.4</td>\n",
       "      <td>1.8</td>\n",
       "      <td>8.1</td>\n",
       "      <td>0.4</td>\n",
       "      <td>4.2</td>\n",
       "      <td>85.000000</td>\n",
       "      <td>35.627366</td>\n",
       "    </tr>\n",
       "    <tr>\n",
       "      <th>2</th>\n",
       "      <td>83.300000</td>\n",
       "      <td>176.0</td>\n",
       "      <td>111.4</td>\n",
       "      <td>1.1</td>\n",
       "      <td>0.8</td>\n",
       "      <td>4.6</td>\n",
       "      <td>7.5</td>\n",
       "      <td>81.600000</td>\n",
       "      <td>35.963326</td>\n",
       "    </tr>\n",
       "    <tr>\n",
       "      <th>3</th>\n",
       "      <td>82.800000</td>\n",
       "      <td>164.0</td>\n",
       "      <td>111.4</td>\n",
       "      <td>4.7</td>\n",
       "      <td>11.8</td>\n",
       "      <td>1.0</td>\n",
       "      <td>2.9</td>\n",
       "      <td>81.000000</td>\n",
       "      <td>41.418798</td>\n",
       "    </tr>\n",
       "    <tr>\n",
       "      <th>4</th>\n",
       "      <td>78.700000</td>\n",
       "      <td>178.0</td>\n",
       "      <td>71.6</td>\n",
       "      <td>1.5</td>\n",
       "      <td>8.3</td>\n",
       "      <td>4.9</td>\n",
       "      <td>5.5</td>\n",
       "      <td>75.000000</td>\n",
       "      <td>22.598157</td>\n",
       "    </tr>\n",
       "    <tr>\n",
       "      <th>...</th>\n",
       "      <td>...</td>\n",
       "      <td>...</td>\n",
       "      <td>...</td>\n",
       "      <td>...</td>\n",
       "      <td>...</td>\n",
       "      <td>...</td>\n",
       "      <td>...</td>\n",
       "      <td>...</td>\n",
       "      <td>...</td>\n",
       "    </tr>\n",
       "    <tr>\n",
       "      <th>4091</th>\n",
       "      <td>80.300000</td>\n",
       "      <td>176.0</td>\n",
       "      <td>115.9</td>\n",
       "      <td>3.7</td>\n",
       "      <td>0.1</td>\n",
       "      <td>5.6</td>\n",
       "      <td>5.8</td>\n",
       "      <td>80.700000</td>\n",
       "      <td>37.416064</td>\n",
       "    </tr>\n",
       "    <tr>\n",
       "      <th>4092</th>\n",
       "      <td>75.300000</td>\n",
       "      <td>162.0</td>\n",
       "      <td>129.6</td>\n",
       "      <td>3.6</td>\n",
       "      <td>6.2</td>\n",
       "      <td>5.6</td>\n",
       "      <td>7.6</td>\n",
       "      <td>71.100000</td>\n",
       "      <td>46.101606</td>\n",
       "    </tr>\n",
       "    <tr>\n",
       "      <th>4093</th>\n",
       "      <td>93.100000</td>\n",
       "      <td>189.0</td>\n",
       "      <td>115.3</td>\n",
       "      <td>2.7</td>\n",
       "      <td>9.4</td>\n",
       "      <td>4.9</td>\n",
       "      <td>6.6</td>\n",
       "      <td>90.000000</td>\n",
       "      <td>32.277932</td>\n",
       "    </tr>\n",
       "    <tr>\n",
       "      <th>4094</th>\n",
       "      <td>77.900000</td>\n",
       "      <td>170.0</td>\n",
       "      <td>90.8</td>\n",
       "      <td>2.3</td>\n",
       "      <td>13.2</td>\n",
       "      <td>0.8</td>\n",
       "      <td>6.2</td>\n",
       "      <td>75.900000</td>\n",
       "      <td>31.418685</td>\n",
       "    </tr>\n",
       "    <tr>\n",
       "      <th>4095</th>\n",
       "      <td>95.918352</td>\n",
       "      <td>188.0</td>\n",
       "      <td>129.2</td>\n",
       "      <td>1.2</td>\n",
       "      <td>8.2</td>\n",
       "      <td>6.0</td>\n",
       "      <td>6.2</td>\n",
       "      <td>95.467416</td>\n",
       "      <td>36.555002</td>\n",
       "    </tr>\n",
       "  </tbody>\n",
       "</table>\n",
       "<p>4096 rows × 9 columns</p>\n",
       "</div>"
      ],
      "text/plain": [
       "        genetic  length   mass  exercise  smoking  alcohol  sugar   lifespan  \\\n",
       "0     73.900000   185.0   99.7       0.9      0.0      2.4    6.9  73.100000   \n",
       "1     86.000000   172.0  105.4       1.8      8.1      0.4    4.2  85.000000   \n",
       "2     83.300000   176.0  111.4       1.1      0.8      4.6    7.5  81.600000   \n",
       "3     82.800000   164.0  111.4       4.7     11.8      1.0    2.9  81.000000   \n",
       "4     78.700000   178.0   71.6       1.5      8.3      4.9    5.5  75.000000   \n",
       "...         ...     ...    ...       ...      ...      ...    ...        ...   \n",
       "4091  80.300000   176.0  115.9       3.7      0.1      5.6    5.8  80.700000   \n",
       "4092  75.300000   162.0  129.6       3.6      6.2      5.6    7.6  71.100000   \n",
       "4093  93.100000   189.0  115.3       2.7      9.4      4.9    6.6  90.000000   \n",
       "4094  77.900000   170.0   90.8       2.3     13.2      0.8    6.2  75.900000   \n",
       "4095  95.918352   188.0  129.2       1.2      8.2      6.0    6.2  95.467416   \n",
       "\n",
       "            bmi  \n",
       "0     29.130752  \n",
       "1     35.627366  \n",
       "2     35.963326  \n",
       "3     41.418798  \n",
       "4     22.598157  \n",
       "...         ...  \n",
       "4091  37.416064  \n",
       "4092  46.101606  \n",
       "4093  32.277932  \n",
       "4094  31.418685  \n",
       "4095  36.555002  \n",
       "\n",
       "[4096 rows x 9 columns]"
      ]
     },
     "metadata": {},
     "output_type": "display_data"
    }
   ],
   "source": [
    "# clip of the \n",
    "\n",
    "# Computing IQR\n",
    "Q1 = df3.quantile(0.25)\n",
    "Q3 = df3.quantile(0.75)\n",
    "IQR = Q3 - Q1\n",
    "\n",
    "print(Q1)\n",
    "print(Q3*1.5)\n",
    "\n",
    "df3 = df3.clip(lower=mean-1.5*IQR, upper=mean+1.5*IQR, axis=1)\n",
    "display (df3)"
   ]
  },
  {
   "cell_type": "code",
   "execution_count": 270,
   "id": "91393f27",
   "metadata": {},
   "outputs": [],
   "source": [
    "# replace NaN with mean\n",
    "\n",
    "\n",
    "# Compute the mean of each column and replace NaN values with the mean\n",
    "df3.fillna(df3.mean(), inplace=True)\n",
    "\n"
   ]
  },
  {
   "cell_type": "code",
   "execution_count": 271,
   "id": "942bb5a3",
   "metadata": {},
   "outputs": [],
   "source": [
    "# # cutof 2*std not curretly in use. \n",
    "\n",
    "# # Compute the mean and standard deviation of each column\n",
    "# mean = df3.mean()\n",
    "# print (mean)\n",
    "# std = df3.std()\n",
    "# print (std)\n",
    "\n",
    "# # Replace values more than 2 standard deviations away from the mean\n",
    "# df3 = df3.clip(lower=mean-2*std, upper=mean+2*std, axis=1)\n",
    "# display (df3)\n",
    "\n"
   ]
  },
  {
   "cell_type": "code",
   "execution_count": 273,
   "id": "f7b3707b",
   "metadata": {},
   "outputs": [],
   "source": [
    "# Connect to SQLite database\n",
    "dbConnection = sqlite3.connect('../rest_server/medisch_centrum_randstad/db.sqlite3')"
   ]
  },
  {
   "cell_type": "code",
   "execution_count": 274,
   "id": "a62cb0cb",
   "metadata": {},
   "outputs": [
    {
     "data": {
      "text/plain": [
       "4096"
      ]
     },
     "execution_count": 274,
     "metadata": {},
     "output_type": "execute_result"
    }
   ],
   "source": [
    "df3.to_sql('cleaned_data_3', dbConnection, if_exists='replace', index = False)"
   ]
  },
  {
   "cell_type": "code",
   "execution_count": 275,
   "id": "70d0013f",
   "metadata": {},
   "outputs": [],
   "source": [
    "dbConnection.close()"
   ]
  }
 ],
 "metadata": {
  "kernelspec": {
   "display_name": "Python 3 (ipykernel)",
   "language": "python",
   "name": "python3"
  },
  "language_info": {
   "codemirror_mode": {
    "name": "ipython",
    "version": 3
   },
   "file_extension": ".py",
   "mimetype": "text/x-python",
   "name": "python",
   "nbconvert_exporter": "python",
   "pygments_lexer": "ipython3",
   "version": "3.10.9"
  }
 },
 "nbformat": 4,
 "nbformat_minor": 5
}
