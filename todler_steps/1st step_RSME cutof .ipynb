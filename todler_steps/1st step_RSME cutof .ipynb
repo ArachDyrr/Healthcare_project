{
 "cells": [
  {
   "cell_type": "code",
   "execution_count": null,
   "metadata": {},
   "outputs": [],
   "source": [
    "# Imports\n",
    "import logging\n",
    "import pandas as pd\n",
    "import requests \n",
    "import sqlite3\n",
    "import sklearn\n",
    "from sklearn import linear_model\n",
    "from sklearn.model_selection import train_test_split\n",
    "from sklearn.metrics import mean_squared_error\t\n",
    "import math\t\n",
    "\n",
    "#logging info\n",
    "logging.basicConfig(level = logging.DEBUG)\n",
    "\n",
    "\n",
    "\n",
    "dbName = \"../rest_server/medisch_centrum_randstad/db.sqlite3\"\n",
    "tableName = \"rest_api_netlify\"\n",
    "url = \"http://localhost:8080/medish_centrum_randstad/api/netlify?page=1\"\n",
    "csvFile = \"rest_server_new/medisch_centrum_randstad/data/data.csv\"\n",
    "\n",
    "##########################\n",
    "### Read from REST API ###\n",
    "##########################\n",
    "# logging.info(\"Extract from REST API\")\n",
    "# response = requests.get(url)\n",
    "# file_contents= response.json()  #dictionary\n",
    "# logging.info(\"Load API Response into Pandas dataframe\")\n",
    "# df = pd.DataFrame.from_dict(file_contents['data']) #all the needed info was condensed into one data column called 'data'\n",
    "# df3 = df.copy() #keep original for df3 \n",
    "# logging.debug(df.head())\n",
    "# logging.info(\"Load dataset in Database\")\n",
    "\n",
    "######################\n",
    "### Read from .csv ###\n",
    "######################\n",
    "#df pd.read_csv('csvFile',skipinitialspace=True)\n",
    "#df3 = df.copy() #keep original for df3 \n",
    "#logging.info(\"Load dataset in Database\")\n",
    "\n",
    "#\n"
   ]
  },
  {
   "cell_type": "code",
   "execution_count": null,
   "metadata": {},
   "outputs": [],
   "source": [
    "###########################\n",
    "### Read from SQlite3 db ###\n",
    "############################\n",
    "dbConnection = sqlite3.connect(dbName)\n"
   ]
  },
  {
   "cell_type": "code",
   "execution_count": null,
   "metadata": {},
   "outputs": [],
   "source": [
    "# # df1\n",
    "\n",
    "# #query db and write to pd:\n",
    "# dfFromDB = pd.read_sql_query(f\"SELECT * FROM {'df1'}\", dbConnection)\n",
    "# #sql adds index, remove:\n",
    "# df1 = dfFromDB.drop('index', axis=1)\n",
    "# pd.set_option('display.max_columns', 10)\n",
    "# display(df1.head())\n",
    "# # display(df1.info)# "
   ]
  },
  {
   "cell_type": "code",
   "execution_count": null,
   "metadata": {},
   "outputs": [
    {
     "data": {
      "text/html": [
       "<div>\n",
       "<style scoped>\n",
       "    .dataframe tbody tr th:only-of-type {\n",
       "        vertical-align: middle;\n",
       "    }\n",
       "\n",
       "    .dataframe tbody tr th {\n",
       "        vertical-align: top;\n",
       "    }\n",
       "\n",
       "    .dataframe thead th {\n",
       "        text-align: right;\n",
       "    }\n",
       "</style>\n",
       "<table border=\"1\" class=\"dataframe\">\n",
       "  <thead>\n",
       "    <tr style=\"text-align: right;\">\n",
       "      <th></th>\n",
       "      <th>genetic</th>\n",
       "      <th>length</th>\n",
       "      <th>mass</th>\n",
       "      <th>exercise</th>\n",
       "      <th>smoking</th>\n",
       "      <th>alcohol</th>\n",
       "      <th>lifespan</th>\n",
       "      <th>sugar</th>\n",
       "      <th>BMI</th>\n",
       "    </tr>\n",
       "  </thead>\n",
       "  <tbody>\n",
       "    <tr>\n",
       "      <th>0</th>\n",
       "      <td>73.9</td>\n",
       "      <td>185.0</td>\n",
       "      <td>99.7</td>\n",
       "      <td>0.9</td>\n",
       "      <td>0.0</td>\n",
       "      <td>2.4</td>\n",
       "      <td>73.1</td>\n",
       "      <td>6.9</td>\n",
       "      <td>29.1</td>\n",
       "    </tr>\n",
       "    <tr>\n",
       "      <th>1</th>\n",
       "      <td>86.0</td>\n",
       "      <td>172.0</td>\n",
       "      <td>105.4</td>\n",
       "      <td>1.8</td>\n",
       "      <td>8.1</td>\n",
       "      <td>0.4</td>\n",
       "      <td>85.0</td>\n",
       "      <td>4.2</td>\n",
       "      <td>35.6</td>\n",
       "    </tr>\n",
       "  </tbody>\n",
       "</table>\n",
       "</div>"
      ],
      "text/plain": [
       "   genetic  length   mass  exercise  smoking  alcohol  lifespan  sugar   BMI\n",
       "0     73.9   185.0   99.7       0.9      0.0      2.4      73.1    6.9  29.1\n",
       "1     86.0   172.0  105.4       1.8      8.1      0.4      85.0    4.2  35.6"
      ]
     },
     "metadata": {},
     "output_type": "display_data"
    },
    {
     "data": {
      "text/plain": [
       "<bound method DataFrame.info of       genetic  length   mass  exercise  smoking  alcohol  lifespan  sugar  \\\n",
       "0        73.9   185.0   99.7       0.9      0.0      2.4      73.1    6.9   \n",
       "1        86.0   172.0  105.4       1.8      8.1      0.4      85.0    4.2   \n",
       "2        83.3   176.0  111.4       1.1      0.8      4.6      81.6    7.5   \n",
       "3        82.8   164.0  111.4       4.7     11.8      1.0      81.0    2.9   \n",
       "4        78.7   178.0   71.6       1.5      8.3      4.9      75.0    5.5   \n",
       "...       ...     ...    ...       ...      ...      ...       ...    ...   \n",
       "4079     80.3   176.0  115.9       3.7      0.1      5.6      80.7    5.8   \n",
       "4080     75.3   162.0  129.6       3.6      6.2      5.6      71.1    7.6   \n",
       "4081     93.1   189.0  115.3       2.7      9.4      4.9      90.0    6.6   \n",
       "4082     77.9   170.0   90.8       2.3     13.2      0.8      75.9    6.2   \n",
       "4083    101.3   188.0  129.2       1.2      8.2      6.0      96.9    6.2   \n",
       "\n",
       "       BMI  \n",
       "0     29.1  \n",
       "1     35.6  \n",
       "2     36.0  \n",
       "3     41.4  \n",
       "4     22.6  \n",
       "...    ...  \n",
       "4079  37.4  \n",
       "4080  49.4  \n",
       "4081  32.3  \n",
       "4082  31.4  \n",
       "4083  36.6  \n",
       "\n",
       "[4084 rows x 9 columns]>"
      ]
     },
     "metadata": {},
     "output_type": "display_data"
    }
   ],
   "source": [
    "#query db and write to pd:\n",
    "dfFromDB = pd.read_sql_query(f\"SELECT * FROM {'df2'}\", dbConnection)\n",
    "#sql adds index, remove:\n",
    "df2 = dfFromDB.drop('index', axis=1)\n",
    "pd.set_option('display.max_columns', 10)\n",
    "display(df2.head(2))\n",
    "display(df2.info)\n"
   ]
  },
  {
   "cell_type": "code",
   "execution_count": null,
   "metadata": {},
   "outputs": [
    {
     "data": {
      "text/html": [
       "<div>\n",
       "<style scoped>\n",
       "    .dataframe tbody tr th:only-of-type {\n",
       "        vertical-align: middle;\n",
       "    }\n",
       "\n",
       "    .dataframe tbody tr th {\n",
       "        vertical-align: top;\n",
       "    }\n",
       "\n",
       "    .dataframe thead th {\n",
       "        text-align: right;\n",
       "    }\n",
       "</style>\n",
       "<table border=\"1\" class=\"dataframe\">\n",
       "  <thead>\n",
       "    <tr style=\"text-align: right;\">\n",
       "      <th></th>\n",
       "      <th>genetic</th>\n",
       "      <th>length</th>\n",
       "      <th>mass</th>\n",
       "      <th>exercise</th>\n",
       "      <th>smoking</th>\n",
       "      <th>alcohol</th>\n",
       "      <th>lifespan</th>\n",
       "      <th>sugar</th>\n",
       "      <th>BMI</th>\n",
       "    </tr>\n",
       "  </thead>\n",
       "  <tbody>\n",
       "    <tr>\n",
       "      <th>count</th>\n",
       "      <td>4084.000000</td>\n",
       "      <td>4084.000000</td>\n",
       "      <td>4084.000000</td>\n",
       "      <td>4084.000000</td>\n",
       "      <td>4084.000000</td>\n",
       "      <td>4084.000000</td>\n",
       "      <td>4084.000000</td>\n",
       "      <td>4084.000000</td>\n",
       "      <td>4084.000000</td>\n",
       "    </tr>\n",
       "    <tr>\n",
       "      <th>mean</th>\n",
       "      <td>82.278624</td>\n",
       "      <td>183.885162</td>\n",
       "      <td>92.275930</td>\n",
       "      <td>2.403477</td>\n",
       "      <td>9.809035</td>\n",
       "      <td>2.266846</td>\n",
       "      <td>80.177693</td>\n",
       "      <td>6.487169</td>\n",
       "      <td>27.682076</td>\n",
       "    </tr>\n",
       "    <tr>\n",
       "      <th>std</th>\n",
       "      <td>7.441333</td>\n",
       "      <td>12.622858</td>\n",
       "      <td>25.801031</td>\n",
       "      <td>1.170426</td>\n",
       "      <td>6.918614</td>\n",
       "      <td>1.801044</td>\n",
       "      <td>7.840508</td>\n",
       "      <td>2.708622</td>\n",
       "      <td>8.711789</td>\n",
       "    </tr>\n",
       "    <tr>\n",
       "      <th>min</th>\n",
       "      <td>63.900000</td>\n",
       "      <td>154.000000</td>\n",
       "      <td>50.000000</td>\n",
       "      <td>0.100000</td>\n",
       "      <td>0.000000</td>\n",
       "      <td>0.000000</td>\n",
       "      <td>57.000000</td>\n",
       "      <td>0.700000</td>\n",
       "      <td>11.300000</td>\n",
       "    </tr>\n",
       "    <tr>\n",
       "      <th>25%</th>\n",
       "      <td>77.600000</td>\n",
       "      <td>175.000000</td>\n",
       "      <td>71.475000</td>\n",
       "      <td>1.500000</td>\n",
       "      <td>3.375000</td>\n",
       "      <td>0.600000</td>\n",
       "      <td>75.000000</td>\n",
       "      <td>4.400000</td>\n",
       "      <td>20.900000</td>\n",
       "    </tr>\n",
       "    <tr>\n",
       "      <th>50%</th>\n",
       "      <td>81.800000</td>\n",
       "      <td>184.000000</td>\n",
       "      <td>89.500000</td>\n",
       "      <td>2.200000</td>\n",
       "      <td>9.500000</td>\n",
       "      <td>1.700000</td>\n",
       "      <td>79.700000</td>\n",
       "      <td>6.300000</td>\n",
       "      <td>26.500000</td>\n",
       "    </tr>\n",
       "    <tr>\n",
       "      <th>75%</th>\n",
       "      <td>86.700000</td>\n",
       "      <td>193.000000</td>\n",
       "      <td>110.825000</td>\n",
       "      <td>3.200000</td>\n",
       "      <td>15.900000</td>\n",
       "      <td>4.000000</td>\n",
       "      <td>85.200000</td>\n",
       "      <td>8.400000</td>\n",
       "      <td>33.200000</td>\n",
       "    </tr>\n",
       "    <tr>\n",
       "      <th>max</th>\n",
       "      <td>102.200000</td>\n",
       "      <td>214.000000</td>\n",
       "      <td>163.600000</td>\n",
       "      <td>5.500000</td>\n",
       "      <td>22.200000</td>\n",
       "      <td>6.000000</td>\n",
       "      <td>105.100000</td>\n",
       "      <td>13.800000</td>\n",
       "      <td>65.900000</td>\n",
       "    </tr>\n",
       "  </tbody>\n",
       "</table>\n",
       "</div>"
      ],
      "text/plain": [
       "           genetic       length         mass     exercise      smoking  \\\n",
       "count  4084.000000  4084.000000  4084.000000  4084.000000  4084.000000   \n",
       "mean     82.278624   183.885162    92.275930     2.403477     9.809035   \n",
       "std       7.441333    12.622858    25.801031     1.170426     6.918614   \n",
       "min      63.900000   154.000000    50.000000     0.100000     0.000000   \n",
       "25%      77.600000   175.000000    71.475000     1.500000     3.375000   \n",
       "50%      81.800000   184.000000    89.500000     2.200000     9.500000   \n",
       "75%      86.700000   193.000000   110.825000     3.200000    15.900000   \n",
       "max     102.200000   214.000000   163.600000     5.500000    22.200000   \n",
       "\n",
       "           alcohol     lifespan        sugar          BMI  \n",
       "count  4084.000000  4084.000000  4084.000000  4084.000000  \n",
       "mean      2.266846    80.177693     6.487169    27.682076  \n",
       "std       1.801044     7.840508     2.708622     8.711789  \n",
       "min       0.000000    57.000000     0.700000    11.300000  \n",
       "25%       0.600000    75.000000     4.400000    20.900000  \n",
       "50%       1.700000    79.700000     6.300000    26.500000  \n",
       "75%       4.000000    85.200000     8.400000    33.200000  \n",
       "max       6.000000   105.100000    13.800000    65.900000  "
      ]
     },
     "metadata": {},
     "output_type": "display_data"
    }
   ],
   "source": [
    "display(df2.describe())"
   ]
  },
  {
   "cell_type": "code",
   "execution_count": null,
   "metadata": {},
   "outputs": [],
   "source": [
    "# # df3\n",
    "\n",
    "# #query db and write to pd:\n",
    "# dfFromDB = pd.read_sql_query(f\"SELECT * FROM {'df3'}\", dbConnection)\n",
    "# #sql adds index, remove:\n",
    "# df3 = dfFromDB.drop('index', axis=1)\n",
    "# pd.set_option('display.max_columns', 10)\n",
    "# # display(df3.head())\n",
    "# # display(df3.info)\n",
    "# # display(df3.describe())"
   ]
  },
  {
   "cell_type": "code",
   "execution_count": null,
   "metadata": {},
   "outputs": [],
   "source": [
    "dbConnection.close()"
   ]
  },
  {
   "cell_type": "code",
   "execution_count": null,
   "metadata": {},
   "outputs": [],
   "source": [
    "# the IQR clipping for outliers \n",
    "df=df2\n",
    "\n",
    "# Computing IQR\n",
    "Q1 = df.quantile(0.25)\n",
    "Q3 = df.quantile(0.75)\n",
    "IQR = Q3 - Q1\n",
    "\n",
    "# Clipping the IQR*|15.*IQD|\n",
    "df2 = df[~((df < (Q1 - 1.5 * IQR)) |(df > (Q3 + 1.5 * IQR))).any(axis=1)]"
   ]
  },
  {
   "attachments": {},
   "cell_type": "markdown",
   "metadata": {},
   "source": [
    "# make spit for df1"
   ]
  },
  {
   "cell_type": "code",
   "execution_count": null,
   "metadata": {},
   "outputs": [],
   "source": [
    "# functie om coefficient of determination(R²) vanilla: te berekenen\n",
    "# StDek\n",
    "\n",
    "def coefficient_R(x):\n",
    "        # R^2\n",
    "    train, test = train_test_split(x, test_size=0.2, random_state=42) # random state 42 om steeds de zelfde split te maken.\n",
    "    \n",
    "    X = train.drop(['lifespan'], axis=1) # definieer de Xas. Drop de waarde die op de Y-as komt\n",
    "    y = train.lifespan # de waarde die op de y-as komt. \n",
    "    regr = linear_model.LinearRegression()\n",
    "    regr.fit(X, y) \n",
    "    score = regr.score(test.drop(['lifespan'],axis=1),test.lifespan)\n",
    "    print(f'coefficient of determination(R\\N{SUPERSCRIPT TWO}) vanilla:', score) # print de waarde die we willen zien. \n",
    "    \n",
    "    # RMSE \t\n",
    "\n",
    "    p_test = regr.predict(x.drop(columns='lifespan'))\t\n",
    "\t\n",
    "    mse = mean_squared_error(x.lifespan, p_test)\t\n",
    "    \n",
    "    rmse = (math.sqrt(mse))\t\n",
    "    print(f'Interpret Root Mean Square Error: {rmse}')\t"
   ]
  },
  {
   "cell_type": "code",
   "execution_count": null,
   "metadata": {},
   "outputs": [],
   "source": [
    "# test veld\n",
    "\n",
    "# df = df2.copy()\n",
    "# coefficient_R(df)"
   ]
  },
  {
   "cell_type": "code",
   "execution_count": null,
   "metadata": {},
   "outputs": [],
   "source": [
    "\n",
    "# x_train, x_test, y_train, y_test = train_test_s[df1.drop(['lifespan'], axis=1)]plit(df1, test_size=0.2, random_state=42)\n",
    "# X = x_train \n",
    "# y = y_train.lifespan\n",
    "# regr = linear_model.LinearRegression()\n",
    "\n",
    "# regr.fit(X,y)"
   ]
  },
  {
   "cell_type": "code",
   "execution_count": null,
   "metadata": {},
   "outputs": [
    {
     "name": "stdout",
     "output_type": "stream",
     "text": [
      "coefficient of determination(R²) vanilla: 0.9799785196963832\n",
      "Interpret Root Mean Square Error: 1.118016753865739\n"
     ]
    }
   ],
   "source": [
    "# df1\n",
    "\n",
    "# create the df to be trained.\n",
    "df = df2.drop(['BMI'], axis=1).copy()\n",
    " \n",
    "coefficient_R(df)"
   ]
  },
  {
   "cell_type": "code",
   "execution_count": null,
   "metadata": {},
   "outputs": [
    {
     "name": "stdout",
     "output_type": "stream",
     "text": [
      "coefficient of determination(R²) vanilla: 0.9812233992575078\n",
      "Interpret Root Mean Square Error: 1.0758166035183905\n"
     ]
    }
   ],
   "source": [
    "# df2\n",
    "\n",
    "# create the df to be trained.\n",
    "df = df2.copy()\n",
    " \n",
    "coefficient_R(df)"
   ]
  },
  {
   "cell_type": "code",
   "execution_count": null,
   "metadata": {},
   "outputs": [
    {
     "name": "stdout",
     "output_type": "stream",
     "text": [
      "coefficient of determination(R²) vanilla: 0.9735737147751526\n",
      "Interpret Root Mean Square Error: 1.1994825244839864\n"
     ]
    }
   ],
   "source": [
    "# df3\n",
    "\n",
    "# create the df to be trained.\n",
    "df = df2.copy()\n",
    "\n",
    "## the IQR clipping for outliers \n",
    "# Computing IQR\n",
    "Q1 = df.quantile(0.25)\n",
    "Q3 = df.quantile(0.75)\n",
    "IQR = Q3 - Q1\n",
    "\n",
    "# Clipping the IQR*|15.*IQD|\n",
    "mean = df.mean()\n",
    "df = df.clip(lower=mean - 1.5 * IQR, upper=mean + 1.5 * IQR, axis=1)\n",
    " \n",
    "\n",
    "coefficient_R(df)"
   ]
  },
  {
   "attachments": {},
   "cell_type": "markdown",
   "metadata": {},
   "source": [
    "<!-- train, test = train_test_split(temp, test_size=0.2, random_state=42)\n",
    " \n",
    "X = train[['genetic', 'length', 'mass', 'exercise', 'smoking', 'alcohol', 'sugar']]\n",
    "y = train.lifespan\n",
    "regr = linear_model.LinearRegression()\n",
    "regr.fit(X, y) \n",
    "score = regr.score(test[['genetic', 'length', 'mass', 'exercise', 'smoking', 'alcohol', 'sugar']],test.lifespan)\n",
    "print(f'coefficient of determination(R\\N{SUPERSCRIPT TWO}) vanilla:', score)\n",
    "a1=score -->"
   ]
  },
  {
   "cell_type": "code",
   "execution_count": null,
   "metadata": {},
   "outputs": [
    {
     "name": "stdout",
     "output_type": "stream",
     "text": [
      "coefficient of determination(R²) vanilla: 0.9820618333051058\n",
      "Interpret Root Mean Square Error: 1.0543180939446808\n"
     ]
    }
   ],
   "source": [
    "# df4 drop outliers\n",
    "\n",
    "# create the df to be trained.\n",
    "df = df2.copy()\n",
    "\n",
    "## the IQR clipping for outliers \n",
    "# Computing IQR\n",
    "Q1 = df.quantile(0.25)\n",
    "Q3 = df.quantile(0.75)\n",
    "IQR = Q3 - Q1\n",
    "\n",
    "# Clipping the IQR*|15.*IQD|\n",
    "df = df[~((df < (Q1 - 1.5 * IQR)) |(df > (Q3 + 1.5 * IQR))).any(axis=1)]\n",
    "\n",
    "\n",
    "coefficient_R(df)"
   ]
  },
  {
   "cell_type": "code",
   "execution_count": null,
   "metadata": {},
   "outputs": [
    {
     "name": "stdout",
     "output_type": "stream",
     "text": [
      "coefficient of determination(R²) vanilla: 0.9806993146035271\n",
      "Interpret Root Mean Square Error: 1.0977088924974763\n"
     ]
    }
   ],
   "source": [
    "# DF2 met X = df.drop(['index', 'mass', 'length', 'lifespan'], axis=1)\n",
    "\n",
    "# create the df to be trained.\n",
    "df = df2.drop(['mass','length'], axis=1).copy()\n",
    " \n",
    "coefficient_R(df)"
   ]
  },
  {
   "cell_type": "code",
   "execution_count": null,
   "metadata": {},
   "outputs": [
    {
     "name": "stdout",
     "output_type": "stream",
     "text": [
      "coefficient of determination(R²) vanilla: 0.9077339058831414\n",
      "Interpret Root Mean Square Error: 2.363476437120093\n"
     ]
    }
   ],
   "source": [
    "# df5\n",
    "\n",
    "# create the df to be trained.\n",
    "df = df2[['lifespan','genetic','BMI']].copy()\n",
    " \n",
    "coefficient_R(df)"
   ]
  },
  {
   "cell_type": "code",
   "execution_count": null,
   "metadata": {},
   "outputs": [
    {
     "name": "stdout",
     "output_type": "stream",
     "text": [
      "coefficient of determination(R²) vanilla: 0.900186076846281\n",
      "Interpret Root Mean Square Error: 2.4527784807396076\n"
     ]
    }
   ],
   "source": [
    "# DF2 genetic\n",
    "\n",
    "# create the df to be trained.\n",
    "df = df2[['lifespan','genetic']].copy()\n",
    "\n",
    "coefficient_R(df)"
   ]
  },
  {
   "cell_type": "code",
   "execution_count": null,
   "metadata": {},
   "outputs": [
    {
     "name": "stdout",
     "output_type": "stream",
     "text": [
      "coefficient of determination(R²) vanilla: -0.0017754178821400846\n",
      "Interpret Root Mean Square Error: 7.8394018921993744\n"
     ]
    }
   ],
   "source": [
    "# DF2 length\n",
    "\n",
    "# create the df to be trained.\n",
    "df = df2[['lifespan','length']].copy()\n",
    "\n",
    "coefficient_R(df)"
   ]
  },
  {
   "cell_type": "code",
   "execution_count": null,
   "metadata": {},
   "outputs": [
    {
     "name": "stdout",
     "output_type": "stream",
     "text": [
      "coefficient of determination(R²) vanilla: 0.002120888004842225\n",
      "Interpret Root Mean Square Error: 7.822817425620948\n"
     ]
    }
   ],
   "source": [
    "# DF2 mass\n",
    "# create the df to be trained.\n",
    "df = df2[['lifespan','mass']].copy()\n",
    "\n",
    "coefficient_R(df)"
   ]
  },
  {
   "cell_type": "code",
   "execution_count": null,
   "metadata": {},
   "outputs": [
    {
     "name": "stdout",
     "output_type": "stream",
     "text": [
      "coefficient of determination(R²) vanilla: 0.009788416932027255\n",
      "Interpret Root Mean Square Error: 7.813111558998616\n"
     ]
    }
   ],
   "source": [
    "# DF2 exercise\n",
    "# create the df to be trained.\n",
    "df = df2[['lifespan','exercise']].copy()\n",
    "\n",
    "coefficient_R(df)\n"
   ]
  },
  {
   "cell_type": "code",
   "execution_count": null,
   "metadata": {},
   "outputs": [
    {
     "name": "stdout",
     "output_type": "stream",
     "text": [
      "coefficient of determination(R²) vanilla: 0.061034016735249\n",
      "Interpret Root Mean Square Error: 7.598745651039806\n"
     ]
    }
   ],
   "source": [
    "# DF2 smoking\n",
    "# create the df to be trained.\n",
    "df = df2[['lifespan','smoking']].copy()\n",
    "\n",
    "coefficient_R(df)"
   ]
  },
  {
   "cell_type": "code",
   "execution_count": null,
   "metadata": {},
   "outputs": [
    {
     "name": "stdout",
     "output_type": "stream",
     "text": [
      "coefficient of determination(R²) vanilla: 0.003543405583155801\n",
      "Interpret Root Mean Square Error: 7.824074972232776\n"
     ]
    }
   ],
   "source": [
    "# DF2 alcohol\n",
    "# create the df to be trained.\n",
    "df = df2[['lifespan','alcohol']].copy()\n",
    "\n",
    "coefficient_R(df)"
   ]
  },
  {
   "cell_type": "code",
   "execution_count": null,
   "metadata": {},
   "outputs": [
    {
     "name": "stdout",
     "output_type": "stream",
     "text": [
      "coefficient of determination(R²) vanilla: -0.001953373219452992\n",
      "Interpret Root Mean Square Error: 7.839463569279191\n"
     ]
    }
   ],
   "source": [
    "# DF2 sugar\n",
    "# create the df to be trained.\n",
    "df = df2[['lifespan','sugar']].copy()\n",
    "\n",
    "coefficient_R(df)"
   ]
  },
  {
   "cell_type": "code",
   "execution_count": null,
   "metadata": {},
   "outputs": [
    {
     "name": "stdout",
     "output_type": "stream",
     "text": [
      "coefficient of determination(R²) vanilla: 0.005117058920511064\n",
      "Interpret Root Mean Square Error: 7.818386016437573\n"
     ]
    }
   ],
   "source": [
    "# DF2 BMI\n",
    "# create the df to be trained.\n",
    "df = df2[['lifespan','BMI']].copy()\n",
    "\n",
    "coefficient_R(df)"
   ]
  },
  {
   "cell_type": "code",
   "execution_count": null,
   "metadata": {},
   "outputs": [
    {
     "name": "stdout",
     "output_type": "stream",
     "text": [
      "coefficient of determination(R²) vanilla: 0.9799239512074865\n",
      "Interpret Root Mean Square Error: 1.1138622504021247\n"
     ]
    }
   ],
   "source": [
    "# df1\n",
    "\n",
    "# create the df to be trained.\n",
    "df = df2.drop(['length','sugar'], axis=1).copy()\n",
    " \n",
    "coefficient_R(df)"
   ]
  }
 ],
 "metadata": {
  "kernelspec": {
   "display_name": "miw",
   "language": "python",
   "name": "python3"
  },
  "language_info": {
   "codemirror_mode": {
    "name": "ipython",
    "version": 3
   },
   "file_extension": ".py",
   "mimetype": "text/x-python",
   "name": "python",
   "nbconvert_exporter": "python",
   "pygments_lexer": "ipython3",
   "version": "3.10.9"
  },
  "orig_nbformat": 4
 },
 "nbformat": 4,
 "nbformat_minor": 2
}
