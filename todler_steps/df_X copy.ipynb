{
 "cells": [
  {
   "cell_type": "code",
   "execution_count": 73,
   "metadata": {},
   "outputs": [],
   "source": [
    "# df_x will have:\n",
    "# Cutoff:\n",
    "# genetic\t exercise smoking alcohol lifespan BMI\n",
    "\n",
    "# not cutoff:\n",
    "# mass\n",
    "\n",
    "# Not included:\n",
    "# length sugar\n",
    "\n",
    "# Length will be required in order to calculate BMI."
   ]
  },
  {
   "cell_type": "code",
   "execution_count": 74,
   "metadata": {},
   "outputs": [],
   "source": [
    "# Imports\n",
    "import logging\n",
    "import pandas as pd\n",
    "# import requests\n",
    "import sqlite3\n",
    "import sklearn\n",
    "from sklearn import linear_model\n",
    "from sklearn.model_selection import train_test_split\n",
    "from sklearn.metrics import mean_squared_error\n",
    "import math\n",
    "import matplotlib.pyplot as plt\n",
    "from scipy.stats import pearsonr\n",
    "\n",
    "\n",
    "\n",
    "\n",
    "#logging info\n",
    "logging.basicConfig(level = logging.DEBUG)\n",
    "\n",
    "\n",
    "\n",
    "dbName = \"../rest_server/medisch_centrum_randstad/db.sqlite3\"\n",
    "tableName = \"rest_api_netlify\"\n",
    "url = \"http://localhost:8080/medish_centrum_randstad/api/netlify?page=1\"\n",
    "csvFile = \"rest_server_new/medisch_centrum_randstad/data/data.csv\"\n",
    "\n",
    "##########################\n",
    "### Read from REST API ###\n",
    "##########################\n",
    "# logging.info(\"Extract from REST API\")\n",
    "# response = requests.get(url)\n",
    "# file_contents= response.json()  #dictionary\n",
    "# logging.info(\"Load API Response into Pandas dataframe\")\n",
    "# df = pd.DataFrame.from_dict(file_contents['data']) #all the needed info was condensed into one data column called 'data'\n",
    "# df3 = df.copy() #keep original for df3 \n",
    "# logging.debug(df.head())\n",
    "# logging.info(\"Load dataset in Database\")\n",
    "\n",
    "######################\n",
    "### Read from .csv ###\n",
    "######################\n",
    "#df pd.read_csv('csvFile',skipinitialspace=True)\n",
    "#df3 = df.copy() #keep original for df3 \n",
    "#logging.info(\"Load dataset in Database\")\n",
    "\n",
    "#\n"
   ]
  },
  {
   "cell_type": "code",
   "execution_count": 75,
   "metadata": {},
   "outputs": [
    {
     "data": {
      "text/html": [
       "<div>\n",
       "<style scoped>\n",
       "    .dataframe tbody tr th:only-of-type {\n",
       "        vertical-align: middle;\n",
       "    }\n",
       "\n",
       "    .dataframe tbody tr th {\n",
       "        vertical-align: top;\n",
       "    }\n",
       "\n",
       "    .dataframe thead th {\n",
       "        text-align: right;\n",
       "    }\n",
       "</style>\n",
       "<table border=\"1\" class=\"dataframe\">\n",
       "  <thead>\n",
       "    <tr style=\"text-align: right;\">\n",
       "      <th></th>\n",
       "      <th>genetic</th>\n",
       "      <th>length</th>\n",
       "      <th>mass</th>\n",
       "      <th>exercise</th>\n",
       "      <th>smoking</th>\n",
       "      <th>alcohol</th>\n",
       "      <th>lifespan</th>\n",
       "      <th>sugar</th>\n",
       "      <th>BMI</th>\n",
       "    </tr>\n",
       "  </thead>\n",
       "  <tbody>\n",
       "    <tr>\n",
       "      <th>0</th>\n",
       "      <td>73.9</td>\n",
       "      <td>185.0</td>\n",
       "      <td>99.7</td>\n",
       "      <td>0.9</td>\n",
       "      <td>0.0</td>\n",
       "      <td>2.4</td>\n",
       "      <td>73.1</td>\n",
       "      <td>6.9</td>\n",
       "      <td>29.1</td>\n",
       "    </tr>\n",
       "    <tr>\n",
       "      <th>1</th>\n",
       "      <td>86.0</td>\n",
       "      <td>172.0</td>\n",
       "      <td>105.4</td>\n",
       "      <td>1.8</td>\n",
       "      <td>8.1</td>\n",
       "      <td>0.4</td>\n",
       "      <td>85.0</td>\n",
       "      <td>4.2</td>\n",
       "      <td>35.6</td>\n",
       "    </tr>\n",
       "  </tbody>\n",
       "</table>\n",
       "</div>"
      ],
      "text/plain": [
       "   genetic  length   mass  exercise  smoking  alcohol  lifespan  sugar   BMI\n",
       "0     73.9   185.0   99.7       0.9      0.0      2.4      73.1    6.9  29.1\n",
       "1     86.0   172.0  105.4       1.8      8.1      0.4      85.0    4.2  35.6"
      ]
     },
     "metadata": {},
     "output_type": "display_data"
    }
   ],
   "source": [
    "###########################\n",
    "### Read from SQlite3 db created in our pipeline ###\n",
    "############################\n",
    "dbConnection = sqlite3.connect(dbName)\n",
    "\n",
    "#query db and write to pd:\n",
    "dfFromDB = pd.read_sql_query(f\"SELECT * FROM {'df2'}\", dbConnection)\n",
    "#sql adds index, remove:\n",
    "df2 = dfFromDB.drop('index', axis=1)\n",
    "pd.set_option('display.max_columns', 10)\n",
    "display(df2.head(2))\n",
    "# display(df2.info)\n",
    "\n",
    "df=df2.copy()\n",
    "y_axis_test = 'lifespan'\n",
    "\n",
    "df_x=df[y_axis_test].copy()\n",
    "\n",
    "dbConnection.close()"
   ]
  },
  {
   "cell_type": "code",
   "execution_count": 90,
   "metadata": {},
   "outputs": [],
   "source": [
    "def P_value(df_1, X, y, df_2):\n",
    "    # Calculate the Pearson correlation coefficient and p-value\n",
    "    corr, p_value = pearsonr(df_1[X], df_1[y])\n",
    "    \n",
    "    # Check if the p-value is less than 0.05\n",
    "    if p_value < 0.05:\n",
    "        df_2[X] = df_1[X].copy()  # Add X from data frame d to data frame df_x\n",
    "        print(f'The P_value is {p_value}. The mean distribution of {X} compared to {y} is suitable for linear regression')\n",
    "        return df_2[X]\n",
    "    else:\n",
    "        print(f'The P_value is {p_value}. The mean distribution of {X} compared to {y} is NOT suitable for linear regression')\n",
    "        return df_1[X]"
   ]
  },
  {
   "cell_type": "code",
   "execution_count": 77,
   "metadata": {},
   "outputs": [
    {
     "name": "stdout",
     "output_type": "stream",
     "text": [
      "The P_value is 0.0. The mean distribution of genetic compared to lifespan is suitable for linear regression\n",
      "The P_value is 0.40064820230526876. The mean distribution of length compared to lifespan is NOT suitable for linear regression\n",
      "The P_value is 2.4035955448719514e-05. The mean distribution of mass compared to lifespan is suitable for linear regression\n",
      "The P_value is 1.0912436283980197e-07. The mean distribution of exercise compared to lifespan is suitable for linear regression\n",
      "The P_value is 2.0223231220460298e-57. The mean distribution of smoking compared to lifespan is suitable for linear regression\n",
      "The P_value is 4.835951231696475e-05. The mean distribution of alcohol compared to lifespan is suitable for linear regression\n",
      "The P_value is 0.4867028898760703. The mean distribution of sugar compared to lifespan is NOT suitable for linear regression\n",
      "The P_value is 2.0719534641846765e-06. The mean distribution of BMI compared to lifespan is suitable for linear regression\n"
     ]
    }
   ],
   "source": [
    "# loop door de df om te kijken welke colomen in aanmerkig komen voor lineare regressie met de geschreven functie P_value. en om deze in een niewe df_x te zetten\n",
    "\n",
    "\n",
    "\n",
    "y_axis_test = 'lifespan'\n",
    "\n",
    "for col in df.columns:\n",
    "    if col != y_axis_test:\n",
    "        df = P_value(df, col, y_axis_test,df_x)\n",
    "        \n",
    "\n"
   ]
  },
  {
   "cell_type": "code",
   "execution_count": 78,
   "metadata": {},
   "outputs": [
    {
     "data": {
      "text/plain": [
       "0    73.1\n",
       "1    85.0\n",
       "2    81.6\n",
       "3    81.0\n",
       "4    75.0\n",
       "Name: lifespan, dtype: object"
      ]
     },
     "metadata": {},
     "output_type": "display_data"
    }
   ],
   "source": [
    "display (df_x.head())"
   ]
  },
  {
   "cell_type": "code",
   "execution_count": 81,
   "metadata": {},
   "outputs": [],
   "source": [
    "df_cut=df2.copy()\n",
    "\n",
    "# Computing IQR\n",
    "Q1 = df_cut.quantile(0.25)\n",
    "Q3 = df_cut.quantile(0.75)\n",
    "IQR = Q3 - Q1\n",
    "\n",
    "# Clipping the IQR*|15.*IQD|\n",
    "df_cut = df_cut[~((df_cut < (Q1 - 1.5 * IQR)) |(df_cut > (Q3 + 1.5 * IQR))).any(axis=1)]"
   ]
  },
  {
   "cell_type": "code",
   "execution_count": 88,
   "metadata": {},
   "outputs": [
    {
     "ename": "KeyError",
     "evalue": "'key of type tuple not found and not a MultiIndex'",
     "output_type": "error",
     "traceback": [
      "\u001b[0;31m---------------------------------------------------------------------------\u001b[0m",
      "\u001b[0;31mKeyError\u001b[0m                                  Traceback (most recent call last)",
      "Cell \u001b[0;32mIn[88], line 1\u001b[0m\n\u001b[0;32m----> 1\u001b[0m df5 \u001b[39m=\u001b[39m df_x [\u001b[39m'\u001b[39;49m\u001b[39mlifespan\u001b[39;49m\u001b[39m'\u001b[39;49m,\u001b[39m'\u001b[39;49m\u001b[39mmass\u001b[39;49m\u001b[39m'\u001b[39;49m]\n\u001b[1;32m      2\u001b[0m df5 \u001b[39m=\u001b[39m df5\u001b[39m.\u001b[39mjoin(df_cut[\u001b[39m'\u001b[39m\u001b[39mgenetic\u001b[39m\u001b[39m'\u001b[39m,\u001b[39m'\u001b[39m\u001b[39mexercise\u001b[39m\u001b[39m'\u001b[39m,\u001b[39m'\u001b[39m\u001b[39msmoking\u001b[39m\u001b[39m'\u001b[39m,\u001b[39m'\u001b[39m\u001b[39malcohol\u001b[39m\u001b[39m'\u001b[39m,\u001b[39m'\u001b[39m\u001b[39mBMI\u001b[39m\u001b[39m'\u001b[39m])\n\u001b[1;32m      4\u001b[0m display(df5\u001b[39m.\u001b[39mhead())\n",
      "File \u001b[0;32m~/miniconda3/envs/miw/lib/python3.10/site-packages/pandas/core/series.py:1007\u001b[0m, in \u001b[0;36mSeries.__getitem__\u001b[0;34m(self, key)\u001b[0m\n\u001b[1;32m   1004\u001b[0m     key \u001b[39m=\u001b[39m np\u001b[39m.\u001b[39masarray(key, dtype\u001b[39m=\u001b[39m\u001b[39mbool\u001b[39m)\n\u001b[1;32m   1005\u001b[0m     \u001b[39mreturn\u001b[39;00m \u001b[39mself\u001b[39m\u001b[39m.\u001b[39m_get_values(key)\n\u001b[0;32m-> 1007\u001b[0m \u001b[39mreturn\u001b[39;00m \u001b[39mself\u001b[39;49m\u001b[39m.\u001b[39;49m_get_with(key)\n",
      "File \u001b[0;32m~/miniconda3/envs/miw/lib/python3.10/site-packages/pandas/core/series.py:1022\u001b[0m, in \u001b[0;36mSeries._get_with\u001b[0;34m(self, key)\u001b[0m\n\u001b[1;32m   1017\u001b[0m     \u001b[39mraise\u001b[39;00m \u001b[39mTypeError\u001b[39;00m(\n\u001b[1;32m   1018\u001b[0m         \u001b[39m\"\u001b[39m\u001b[39mIndexing a Series with DataFrame is not \u001b[39m\u001b[39m\"\u001b[39m\n\u001b[1;32m   1019\u001b[0m         \u001b[39m\"\u001b[39m\u001b[39msupported, use the appropriate DataFrame column\u001b[39m\u001b[39m\"\u001b[39m\n\u001b[1;32m   1020\u001b[0m     )\n\u001b[1;32m   1021\u001b[0m \u001b[39melif\u001b[39;00m \u001b[39misinstance\u001b[39m(key, \u001b[39mtuple\u001b[39m):\n\u001b[0;32m-> 1022\u001b[0m     \u001b[39mreturn\u001b[39;00m \u001b[39mself\u001b[39;49m\u001b[39m.\u001b[39;49m_get_values_tuple(key)\n\u001b[1;32m   1024\u001b[0m \u001b[39melif\u001b[39;00m \u001b[39mnot\u001b[39;00m is_list_like(key):\n\u001b[1;32m   1025\u001b[0m     \u001b[39m# e.g. scalars that aren't recognized by lib.is_scalar, GH#32684\u001b[39;00m\n\u001b[1;32m   1026\u001b[0m     \u001b[39mreturn\u001b[39;00m \u001b[39mself\u001b[39m\u001b[39m.\u001b[39mloc[key]\n",
      "File \u001b[0;32m~/miniconda3/envs/miw/lib/python3.10/site-packages/pandas/core/series.py:1060\u001b[0m, in \u001b[0;36mSeries._get_values_tuple\u001b[0;34m(self, key)\u001b[0m\n\u001b[1;32m   1057\u001b[0m     \u001b[39mreturn\u001b[39;00m result\n\u001b[1;32m   1059\u001b[0m \u001b[39mif\u001b[39;00m \u001b[39mnot\u001b[39;00m \u001b[39misinstance\u001b[39m(\u001b[39mself\u001b[39m\u001b[39m.\u001b[39mindex, MultiIndex):\n\u001b[0;32m-> 1060\u001b[0m     \u001b[39mraise\u001b[39;00m \u001b[39mKeyError\u001b[39;00m(\u001b[39m\"\u001b[39m\u001b[39mkey of type tuple not found and not a MultiIndex\u001b[39m\u001b[39m\"\u001b[39m)\n\u001b[1;32m   1062\u001b[0m \u001b[39m# If key is contained, would have returned by now\u001b[39;00m\n\u001b[1;32m   1063\u001b[0m indexer, new_index \u001b[39m=\u001b[39m \u001b[39mself\u001b[39m\u001b[39m.\u001b[39mindex\u001b[39m.\u001b[39mget_loc_level(key)\n",
      "\u001b[0;31mKeyError\u001b[0m: 'key of type tuple not found and not a MultiIndex'"
     ]
    }
   ],
   "source": [
    "df5 = df_x ['lifespan','mass']\n",
    "df5 = df5.join(df_cut['genetic','exercise','smoking','alcohol','BMI'])\n",
    "\n",
    "display(df5.head())"
   ]
  }
 ],
 "metadata": {
  "kernelspec": {
   "display_name": "miw",
   "language": "python",
   "name": "python3"
  },
  "language_info": {
   "codemirror_mode": {
    "name": "ipython",
    "version": 3
   },
   "file_extension": ".py",
   "mimetype": "text/x-python",
   "name": "python",
   "nbconvert_exporter": "python",
   "pygments_lexer": "ipython3",
   "version": "3.10.9"
  },
  "orig_nbformat": 4
 },
 "nbformat": 4,
 "nbformat_minor": 2
}
