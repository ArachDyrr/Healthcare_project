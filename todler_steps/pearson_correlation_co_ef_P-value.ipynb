{
 "cells": [
  {
   "cell_type": "code",
   "execution_count": 42,
   "metadata": {},
   "outputs": [],
   "source": [
    "# Imports\n",
    "import logging\n",
    "import pandas as pd\n",
    "# import requests\n",
    "import sqlite3\n",
    "# import sklearn\n",
    "# from sklearn import linear_model\n",
    "# from sklearn.model_selection import train_test_split\n",
    "# from sklearn.metrics import mean_squared_error\n",
    "# import math\n",
    "import matplotlib.pyplot as plt\n",
    "from scipy.stats import pearsonr\n",
    "\n",
    "#logging info\n",
    "logging.basicConfig(level = logging.DEBUG)\n",
    "\n",
    "\n",
    "\n",
    "dbName = \"../rest_server/medisch_centrum_randstad/db.sqlite3\"\n",
    "tableName = \"rest_api_netlify\"\n",
    "url = \"http://localhost:8080/medish_centrum_randstad/api/netlify?page=1\"\n",
    "csvFile = \"rest_server_new/medisch_centrum_randstad/data/data.csv\"\n",
    "\n",
    "##########################\n",
    "### Read from REST API ###\n",
    "##########################\n",
    "# logging.info(\"Extract from REST API\")\n",
    "# response = requests.get(url)\n",
    "# file_contents= response.json()  #dictionary\n",
    "# logging.info(\"Load API Response into Pandas dataframe\")\n",
    "# df = pd.DataFrame.from_dict(file_contents['data']) #all the needed info was condensed into one data column called 'data'\n",
    "# df3 = df.copy() #keep original for df3 \n",
    "# logging.debug(df.head())\n",
    "# logging.info(\"Load dataset in Database\")\n",
    "\n",
    "######################\n",
    "### Read from .csv ###\n",
    "######################\n",
    "#df pd.read_csv('csvFile',skipinitialspace=True)\n",
    "#df3 = df.copy() #keep original for df3 \n",
    "#logging.info(\"Load dataset in Database\")\n",
    "\n",
    "#\n"
   ]
  },
  {
   "cell_type": "code",
   "execution_count": 43,
   "metadata": {},
   "outputs": [],
   "source": [
    "###########################\n",
    "### Read from SQlite3 db created in our pipeline ###\n",
    "############################\n",
    "dbConnection = sqlite3.connect(dbName)"
   ]
  },
  {
   "cell_type": "code",
   "execution_count": 44,
   "metadata": {},
   "outputs": [
    {
     "data": {
      "text/html": [
       "<div>\n",
       "<style scoped>\n",
       "    .dataframe tbody tr th:only-of-type {\n",
       "        vertical-align: middle;\n",
       "    }\n",
       "\n",
       "    .dataframe tbody tr th {\n",
       "        vertical-align: top;\n",
       "    }\n",
       "\n",
       "    .dataframe thead th {\n",
       "        text-align: right;\n",
       "    }\n",
       "</style>\n",
       "<table border=\"1\" class=\"dataframe\">\n",
       "  <thead>\n",
       "    <tr style=\"text-align: right;\">\n",
       "      <th></th>\n",
       "      <th>genetic</th>\n",
       "      <th>length</th>\n",
       "      <th>mass</th>\n",
       "      <th>exercise</th>\n",
       "      <th>smoking</th>\n",
       "      <th>alcohol</th>\n",
       "      <th>lifespan</th>\n",
       "      <th>sugar</th>\n",
       "      <th>BMI</th>\n",
       "    </tr>\n",
       "  </thead>\n",
       "  <tbody>\n",
       "    <tr>\n",
       "      <th>0</th>\n",
       "      <td>73.9</td>\n",
       "      <td>185.0</td>\n",
       "      <td>99.7</td>\n",
       "      <td>0.9</td>\n",
       "      <td>0.0</td>\n",
       "      <td>2.4</td>\n",
       "      <td>73.1</td>\n",
       "      <td>6.9</td>\n",
       "      <td>29.1</td>\n",
       "    </tr>\n",
       "    <tr>\n",
       "      <th>1</th>\n",
       "      <td>86.0</td>\n",
       "      <td>172.0</td>\n",
       "      <td>105.4</td>\n",
       "      <td>1.8</td>\n",
       "      <td>8.1</td>\n",
       "      <td>0.4</td>\n",
       "      <td>85.0</td>\n",
       "      <td>4.2</td>\n",
       "      <td>35.6</td>\n",
       "    </tr>\n",
       "  </tbody>\n",
       "</table>\n",
       "</div>"
      ],
      "text/plain": [
       "   genetic  length   mass  exercise  smoking  alcohol  lifespan  sugar   BMI\n",
       "0     73.9   185.0   99.7       0.9      0.0      2.4      73.1    6.9  29.1\n",
       "1     86.0   172.0  105.4       1.8      8.1      0.4      85.0    4.2  35.6"
      ]
     },
     "metadata": {},
     "output_type": "display_data"
    }
   ],
   "source": [
    "#query db and write to pd:\n",
    "dfFromDB = pd.read_sql_query(f\"SELECT * FROM {'df2'}\", dbConnection)\n",
    "#sql adds index, remove:\n",
    "df2 = dfFromDB.drop('index', axis=1)\n",
    "pd.set_option('display.max_columns', 10)\n",
    "display(df2.head(2))\n",
    "# display(df2.info)"
   ]
  },
  {
   "cell_type": "code",
   "execution_count": 45,
   "metadata": {},
   "outputs": [],
   "source": [
    "df=df2.copy()"
   ]
  },
  {
   "cell_type": "code",
   "execution_count": 46,
   "metadata": {},
   "outputs": [],
   "source": [
    "\n",
    "# # Calculate the Pearson correlation coefficient and p-value\n",
    "# corr, p_value = pearsonr(df['X'], df['lifespan'])\n",
    "\n",
    "# # Check if the p-value is less than 0.05\n",
    "# if p_value < 0.05:\n",
    "#     print('The mean distribution of X compared to y is suitable for linear regression')\n",
    "# else:\n",
    "#     print('The mean distribution of X compared to y is not suitable for linear regression')\n"
   ]
  },
  {
   "cell_type": "code",
   "execution_count": 47,
   "metadata": {},
   "outputs": [],
   "source": [
    "def P_value (d,X,y):\n",
    "\n",
    "    # Calculate the Pearson correlation coefficient and p-value\n",
    "    corr, p_value = pearsonr(d[X], d[y])\n",
    "\n",
    "    # Check if the p-value is less than 0.05\n",
    "    if p_value < 0.05:\n",
    "        print(f'The P_value is {p_value}. The mean distribution of {X} compared to {y} is suitable for linear regression')\n",
    "    else:\n",
    "        print(f'The P_value is {p_value}. The mean distribution of {X} compared to {y} is NOT suitable for linear regression')\n"
   ]
  },
  {
   "cell_type": "code",
   "execution_count": 48,
   "metadata": {},
   "outputs": [
    {
     "name": "stdout",
     "output_type": "stream",
     "text": [
      "The P_value is 2.4035955448719514e-05. The mean distribution of mass compared to lifespan is suitable for linear regression\n"
     ]
    }
   ],
   "source": [
    "P_value(df,'mass','lifespan')"
   ]
  },
  {
   "attachments": {},
   "cell_type": "markdown",
   "metadata": {},
   "source": [
    "-over het algemeen wordt aangenomen dat Pearsons p-value kleiner moet zijn dan 0.05 voor een- "
   ]
  },
  {
   "cell_type": "code",
   "execution_count": 49,
   "metadata": {},
   "outputs": [
    {
     "name": "stdout",
     "output_type": "stream",
     "text": [
      "The P_value is 0.0. The mean distribution of genetic compared to lifespan is suitable for linear regression\n",
      "The P_value is 0.40064820230526876. The mean distribution of length compared to lifespan is NOT suitable for linear regression\n",
      "The P_value is 2.4035955448719514e-05. The mean distribution of mass compared to lifespan is suitable for linear regression\n",
      "The P_value is 1.0912436283980197e-07. The mean distribution of exercise compared to lifespan is suitable for linear regression\n",
      "The P_value is 2.0223231220460298e-57. The mean distribution of smoking compared to lifespan is suitable for linear regression\n",
      "The P_value is 4.835951231696475e-05. The mean distribution of alcohol compared to lifespan is suitable for linear regression\n",
      "The P_value is 0.4867028898760703. The mean distribution of sugar compared to lifespan is NOT suitable for linear regression\n",
      "The P_value is 2.0719534641846765e-06. The mean distribution of BMI compared to lifespan is suitable for linear regression\n"
     ]
    }
   ],
   "source": [
    "# loop door de df om te kijken welke colomen in aanmerkig komen voor lineare regressie met de geschreven functie P_value.\n",
    "\n",
    "\n",
    "y = 'lifespan'\n",
    "\n",
    "for col in df.columns:\n",
    "    if col != y:\n",
    "        P_value(df, col, y)"
   ]
  },
  {
   "cell_type": "code",
   "execution_count": 50,
   "metadata": {},
   "outputs": [],
   "source": [
    "# maak een cutof van de outliers om te kijken welke dan significant zijn. \n",
    "\n",
    "df=df2\n",
    "\n",
    "# Computing IQR\n",
    "Q1 = df.quantile(0.25)\n",
    "Q3 = df.quantile(0.75)\n",
    "IQR = Q3 - Q1\n",
    "\n",
    "# Clipping the IQR*|15.*IQD|\n",
    "df2 = df[~((df < (Q1 - 1.5 * IQR)) |(df > (Q3 + 1.5 * IQR))).any(axis=1)]"
   ]
  },
  {
   "cell_type": "code",
   "execution_count": 51,
   "metadata": {},
   "outputs": [
    {
     "name": "stdout",
     "output_type": "stream",
     "text": [
      "The P_value is 0.0. The mean distribution of genetic compared to lifespan is suitable for linear regression\n",
      "The P_value is 0.40064820230526876. The mean distribution of length compared to lifespan is NOT suitable for linear regression\n",
      "The P_value is 2.4035955448719514e-05. The mean distribution of mass compared to lifespan is suitable for linear regression\n",
      "The P_value is 1.0912436283980197e-07. The mean distribution of exercise compared to lifespan is suitable for linear regression\n",
      "The P_value is 2.0223231220460298e-57. The mean distribution of smoking compared to lifespan is suitable for linear regression\n",
      "The P_value is 4.835951231696475e-05. The mean distribution of alcohol compared to lifespan is suitable for linear regression\n",
      "The P_value is 0.4867028898760703. The mean distribution of sugar compared to lifespan is NOT suitable for linear regression\n",
      "The P_value is 2.0719534641846765e-06. The mean distribution of BMI compared to lifespan is suitable for linear regression\n"
     ]
    }
   ],
   "source": [
    "# loop door de df om te kijken welke colomen in aanmerkig komen voor lineare regressie met de geschreven functie P_value.\n",
    "\n",
    "\n",
    "y = 'lifespan'\n",
    "\n",
    "for col in df.columns:\n",
    "    if col != y:\n",
    "        P_value(df, col, y)"
   ]
  },
  {
   "cell_type": "code",
   "execution_count": 52,
   "metadata": {},
   "outputs": [],
   "source": [
    "# # looks like shit and has bugs. \n",
    "# y = df['lifespan']\n",
    "\n",
    "# for col in df.columns:\n",
    "#     if col != 'lifespan':\n",
    "#         x = df[col]\n",
    "#         plt.scatter(x, y)\n",
    "#         plt.xlabel(col)\n",
    "#         plt.ylabel('lifespan')\n",
    "#         plt.title(f'Scatter Plot of {col} vs. lifespan')\n",
    "#         plt.show()"
   ]
  },
  {
   "attachments": {},
   "cell_type": "markdown",
   "metadata": {},
   "source": [
    "__conclusion:__\n",
    "\n",
    "__Length and Sugar themselves are not permitable for linear regression in order to predict lifespan.__"
   ]
  }
 ],
 "metadata": {
  "kernelspec": {
   "display_name": "miw",
   "language": "python",
   "name": "python3"
  },
  "language_info": {
   "codemirror_mode": {
    "name": "ipython",
    "version": 3
   },
   "file_extension": ".py",
   "mimetype": "text/x-python",
   "name": "python",
   "nbconvert_exporter": "python",
   "pygments_lexer": "ipython3",
   "version": "3.10.9"
  },
  "orig_nbformat": 4
 },
 "nbformat": 4,
 "nbformat_minor": 2
}
