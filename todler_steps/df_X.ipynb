{
 "cells": [
  {
   "cell_type": "code",
   "execution_count": null,
   "metadata": {},
   "outputs": [],
   "source": [
    "df_x will have:\n",
    "Cutoff:\n",
    "genetic\t exercise smoking alcohol lifespan BMI\n",
    "\n",
    "not cutoff:\n",
    "mass\n",
    "\n",
    "Not included:\n",
    "length sugar\n",
    "\n",
    "Length will be required in order to calculate BMI."
   ]
  }
 ],
 "metadata": {
  "language_info": {
   "name": "python"
  },
  "orig_nbformat": 4
 },
 "nbformat": 4,
 "nbformat_minor": 2
}
