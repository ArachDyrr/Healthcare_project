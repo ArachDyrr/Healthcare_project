{
 "cells": [
  {
   "attachments": {},
   "cell_type": "markdown",
   "metadata": {},
   "source": [
    "functie om de <i>coefficient of determination(R²) vanilla: </i> te berekenen."
   ]
  },
  {
   "cell_type": "code",
   "execution_count": null,
   "metadata": {},
   "outputs": [],
   "source": [
    "def coefficient_R(x):\n",
    "        # R^2\n",
    "    train, test = train_test_split(x, test_size=0.2, random_state=42) # random state 42 om steeds de zelfde split te maken.\n",
    "    \n",
    "    X = train.drop(['lifespan'], axis=1) # definieer de Xas. Drop de waarde die op de Y-as komt\n",
    "    y = train.lifespan # de waarde die op de y-as komt. \n",
    "    regr = linear_model.LinearRegression()\n",
    "    regr.fit(X, y) \n",
    "    score = regr.score(test.drop(['lifespan'],axis=1),test.lifespan)\n",
    "    print(f'coefficient of determination(R\\N{SUPERSCRIPT TWO}) vanilla:', score) # print de waarde die we willen zien. \n",
    "    "
   ]
  },
  {
   "cell_type": "code",
   "execution_count": null,
   "metadata": {},
   "outputs": [],
   "source": [
    "# functie om coefficient of determination(R²) vanilla: te berekenen en om de RMSE te berekenen.\n",
    "# StDek\n",
    "\n",
    "def r_squared_RMSE (x):\n",
    "        # R^2\n",
    "    train, test = train_test_split(x, test_size=0.2, random_state=42) # random state 42 om steeds de zelfde split te maken.\n",
    "    \n",
    "    X = train.drop(['lifespan'], axis=1) # definieer de Xas. Drop de waarde die op de Y-as komt\n",
    "    y = train.lifespan # de waarde die op de y-as komt. \n",
    "    regr = linear_model.LinearRegression()\n",
    "    regr.fit(X, y) \n",
    "    score = regr.score(test.drop(['lifespan'],axis=1),test.lifespan)\n",
    "    print(f'coefficient of determination(R\\N{SUPERSCRIPT TWO}) vanilla:', score) # print de waarde die we willen zien. \n",
    "    \n",
    "    # RMSE \t                \n",
    "\n",
    "    p_test = regr.predict(x.drop(columns='lifespan'))\n",
    "\t\n",
    "    mse = mean_squared_error(x.lifespan, p_test) # kwadrateer de afwijking van de geplotte verwachting. \n",
    "    \n",
    "    rmse = (math.sqrt(mse))\t# gebruik math om de wortel te trekken\n",
    "    print(f'Interpret Root Mean Square Error: {rmse}')\t"
   ]
  },
  {
   "attachments": {},
   "cell_type": "markdown",
   "metadata": {},
   "source": [
    "Invul voorkeeld. "
   ]
  },
  {
   "cell_type": "code",
   "execution_count": null,
   "metadata": {},
   "outputs": [],
   "source": [
    "df = df2.copy()\n",
    "coefficient_R(df)"
   ]
  },
  {
   "cell_type": "code",
   "execution_count": null,
   "metadata": {},
   "outputs": [],
   "source": [
    "# # functie om de p waarde te berekene en deze af te drukken. \n",
    "\n",
    "def P_value (d,X,y):\n",
    "\n",
    "    # Calculate the Pearson correlation coëfficiënt en de  p-waarde\n",
    "    # Bereken Pearsons correlatie cotieent\n",
    "    corr, p_value = pearsonr(d[X], d[y])\n",
    "\n",
    "    # Kijk of de p-waarde minder is dan 0.05 en print een statement over die waarde.\n",
    "    if p_value < 0.05:\n",
    "        print(f'The P_value is {p_value}. The mean distribution of {X} compared to {y} is suitable for linear regression')\n",
    "    else:\n",
    "        print(f'The P_value is {p_value}. The mean distribution of {X} compared to {y} is not suitable for linear regression')\n"
   ]
  },
  {
   "cell_type": "code",
   "execution_count": null,
   "metadata": {},
   "outputs": [],
   "source": [
    "# functie om de Root-mean-square deviation te berekenen.\n",
    "\n",
    "def RMSE (x):               \n",
    "    train, test = train_test_split(x, test_size=0.2, random_state=42) # random state 42 om steeds de zelfde split te maken.\n",
    "    \n",
    "    X = train.drop(['lifespan'], axis=1) # definieer de Xas. Drop de waarde die op de Y-as komt\n",
    "    y = train.lifespan # de waarde die op de y-as komt. \n",
    "    regr = linear_model.LinearRegression() # pas de regressie toe\n",
    "    regr.fit(X, y) # fit de regressie\n",
    "\n",
    "    p_test = regr.predict(x.drop(columns='lifespan'))\n",
    "\t\n",
    "    mse = mean_squared_error(x.lifespan, p_test) # kwadrateer de afwijking van de geplotte verwachting. \n",
    "    \n",
    "    rmse = (math.sqrt(mse))\t# gebruik math om de wortel te trekken\n",
    "    print(f'Interpret Root Mean Square Error: {rmse}')\t"
   ]
  },
  {
   "cell_type": "code",
   "execution_count": null,
   "metadata": {},
   "outputs": [],
   "source": []
  }
 ],
 "metadata": {
  "language_info": {
   "name": "python"
  },
  "orig_nbformat": 4
 },
 "nbformat": 4,
 "nbformat_minor": 2
}
