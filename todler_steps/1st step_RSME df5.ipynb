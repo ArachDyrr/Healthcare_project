{
 "cells": [
  {
   "cell_type": "code",
   "execution_count": 82,
   "metadata": {},
   "outputs": [],
   "source": [
    "# Imports\n",
    "import logging\n",
    "import pandas as pd\n",
    "import requests \n",
    "import sqlite3\n",
    "import sklearn\n",
    "from sklearn import linear_model\n",
    "from sklearn.model_selection import train_test_split\n",
    "from sklearn.metrics import mean_squared_error\t\n",
    "import math\t\n",
    "\n",
    "#logging info\n",
    "logging.basicConfig(level = logging.DEBUG)\n",
    "\n",
    "\n",
    "\n",
    "dbName = \"../rest_server/medisch_centrum_randstad/db.sqlite3\"\n",
    "tableName = \"rest_api_netlify\"\n",
    "url = \"http://localhost:8080/medish_centrum_randstad/api/netlify?page=1\"\n",
    "csvFile = \"rest_server_new/medisch_centrum_randstad/data/data.csv\"\n",
    "\n",
    "##########################\n",
    "### Read from REST API ###\n",
    "##########################\n",
    "# logging.info(\"Extract from REST API\")\n",
    "# response = requests.get(url)\n",
    "# file_contents= response.json()  #dictionary\n",
    "# logging.info(\"Load API Response into Pandas dataframe\")\n",
    "# df = pd.DataFrame.from_dict(file_contents['data']) #all the needed info was condensed into one data column called 'data'\n",
    "# df3 = df.copy() #keep original for df3 \n",
    "# logging.debug(df.head())\n",
    "# logging.info(\"Load dataset in Database\")\n",
    "\n",
    "######################\n",
    "### Read from .csv ###\n",
    "######################\n",
    "#df pd.read_csv('csvFile',skipinitialspace=True)\n",
    "#df3 = df.copy() #keep original for df3 \n",
    "#logging.info(\"Load dataset in Database\")\n",
    "\n",
    "#\n"
   ]
  },
  {
   "cell_type": "code",
   "execution_count": 83,
   "metadata": {},
   "outputs": [],
   "source": [
    "###########################\n",
    "### Read from SQlite3 db ###\n",
    "############################\n",
    "dbConnection = sqlite3.connect(dbName)\n"
   ]
  },
  {
   "cell_type": "code",
   "execution_count": 84,
   "metadata": {},
   "outputs": [],
   "source": [
    "# # df1\n",
    "\n",
    "# #query db and write to pd:\n",
    "# dfFromDB = pd.read_sql_query(f\"SELECT * FROM {'df1'}\", dbConnection)\n",
    "# #sql adds index, remove:\n",
    "# df1 = dfFromDB.drop('index', axis=1)\n",
    "# pd.set_option('display.max_columns', 10)\n",
    "# display(df1.head())\n",
    "# # display(df1.info)# "
   ]
  },
  {
   "cell_type": "code",
   "execution_count": 85,
   "metadata": {},
   "outputs": [
    {
     "data": {
      "text/html": [
       "<div>\n",
       "<style scoped>\n",
       "    .dataframe tbody tr th:only-of-type {\n",
       "        vertical-align: middle;\n",
       "    }\n",
       "\n",
       "    .dataframe tbody tr th {\n",
       "        vertical-align: top;\n",
       "    }\n",
       "\n",
       "    .dataframe thead th {\n",
       "        text-align: right;\n",
       "    }\n",
       "</style>\n",
       "<table border=\"1\" class=\"dataframe\">\n",
       "  <thead>\n",
       "    <tr style=\"text-align: right;\">\n",
       "      <th></th>\n",
       "      <th>lifespan</th>\n",
       "      <th>mass</th>\n",
       "      <th>genetic</th>\n",
       "      <th>exercise</th>\n",
       "      <th>smoking</th>\n",
       "      <th>alcohol</th>\n",
       "      <th>bmi</th>\n",
       "    </tr>\n",
       "  </thead>\n",
       "  <tbody>\n",
       "    <tr>\n",
       "      <th>0</th>\n",
       "      <td>73.1</td>\n",
       "      <td>99.7</td>\n",
       "      <td>73.9</td>\n",
       "      <td>0.9</td>\n",
       "      <td>0.0</td>\n",
       "      <td>2.4</td>\n",
       "      <td>29.1</td>\n",
       "    </tr>\n",
       "    <tr>\n",
       "      <th>1</th>\n",
       "      <td>85.0</td>\n",
       "      <td>105.4</td>\n",
       "      <td>86.0</td>\n",
       "      <td>1.8</td>\n",
       "      <td>8.1</td>\n",
       "      <td>0.4</td>\n",
       "      <td>35.6</td>\n",
       "    </tr>\n",
       "  </tbody>\n",
       "</table>\n",
       "</div>"
      ],
      "text/plain": [
       "   lifespan   mass  genetic  exercise  smoking  alcohol   bmi\n",
       "0      73.1   99.7     73.9       0.9      0.0      2.4  29.1\n",
       "1      85.0  105.4     86.0       1.8      8.1      0.4  35.6"
      ]
     },
     "metadata": {},
     "output_type": "display_data"
    },
    {
     "data": {
      "text/plain": [
       "<bound method DataFrame.info of       lifespan   mass  genetic  exercise  smoking  alcohol   bmi\n",
       "0         73.1   99.7     73.9       0.9      0.0      2.4  29.1\n",
       "1         85.0  105.4     86.0       1.8      8.1      0.4  35.6\n",
       "2         81.6  111.4     83.3       1.1      0.8      4.6  36.0\n",
       "3         81.0  111.4     82.8       4.7     11.8      1.0  41.4\n",
       "4         75.0   71.6     78.7       1.5      8.3      4.9  22.6\n",
       "...        ...    ...      ...       ...      ...      ...   ...\n",
       "3972      82.4   53.2     90.0       3.6     22.0      4.8  15.1\n",
       "3973      80.7  115.9     80.3       3.7      0.1      5.6  37.4\n",
       "3974      71.1  129.6     75.3       3.6      6.2      5.6  49.4\n",
       "3975      90.0  115.3     93.1       2.7      9.4      4.9  32.3\n",
       "3976      75.9   90.8     77.9       2.3     13.2      0.8  31.4\n",
       "\n",
       "[3977 rows x 7 columns]>"
      ]
     },
     "metadata": {},
     "output_type": "display_data"
    }
   ],
   "source": [
    "#query db and write to pd:\n",
    "dfFromDB = pd.read_sql_query(f\"SELECT * FROM {'df5'}\", dbConnection)\n",
    "#sql adds index, remove:\n",
    "df5 = dfFromDB.drop('index', axis=1)\n",
    "pd.set_option('display.max_columns', 10)\n",
    "display(df5.head(2))\n",
    "display(df5.info)\n"
   ]
  },
  {
   "cell_type": "code",
   "execution_count": 86,
   "metadata": {},
   "outputs": [
    {
     "data": {
      "text/html": [
       "<div>\n",
       "<style scoped>\n",
       "    .dataframe tbody tr th:only-of-type {\n",
       "        vertical-align: middle;\n",
       "    }\n",
       "\n",
       "    .dataframe tbody tr th {\n",
       "        vertical-align: top;\n",
       "    }\n",
       "\n",
       "    .dataframe thead th {\n",
       "        text-align: right;\n",
       "    }\n",
       "</style>\n",
       "<table border=\"1\" class=\"dataframe\">\n",
       "  <thead>\n",
       "    <tr style=\"text-align: right;\">\n",
       "      <th></th>\n",
       "      <th>lifespan</th>\n",
       "      <th>mass</th>\n",
       "      <th>genetic</th>\n",
       "      <th>exercise</th>\n",
       "      <th>smoking</th>\n",
       "      <th>alcohol</th>\n",
       "      <th>bmi</th>\n",
       "    </tr>\n",
       "  </thead>\n",
       "  <tbody>\n",
       "    <tr>\n",
       "      <th>count</th>\n",
       "      <td>3977.000000</td>\n",
       "      <td>3977.000000</td>\n",
       "      <td>3977.000000</td>\n",
       "      <td>3977.000000</td>\n",
       "      <td>3977.000000</td>\n",
       "      <td>3977.000000</td>\n",
       "      <td>3977.000000</td>\n",
       "    </tr>\n",
       "    <tr>\n",
       "      <th>mean</th>\n",
       "      <td>79.988358</td>\n",
       "      <td>91.708801</td>\n",
       "      <td>82.038823</td>\n",
       "      <td>2.404249</td>\n",
       "      <td>9.780639</td>\n",
       "      <td>2.269776</td>\n",
       "      <td>27.419437</td>\n",
       "    </tr>\n",
       "    <tr>\n",
       "      <th>std</th>\n",
       "      <td>7.453324</td>\n",
       "      <td>25.246900</td>\n",
       "      <td>7.087155</td>\n",
       "      <td>1.170096</td>\n",
       "      <td>6.910443</td>\n",
       "      <td>1.803397</td>\n",
       "      <td>8.306686</td>\n",
       "    </tr>\n",
       "    <tr>\n",
       "      <th>min</th>\n",
       "      <td>59.700000</td>\n",
       "      <td>50.000000</td>\n",
       "      <td>64.000000</td>\n",
       "      <td>0.100000</td>\n",
       "      <td>0.000000</td>\n",
       "      <td>0.000000</td>\n",
       "      <td>11.300000</td>\n",
       "    </tr>\n",
       "    <tr>\n",
       "      <th>25%</th>\n",
       "      <td>75.000000</td>\n",
       "      <td>71.300000</td>\n",
       "      <td>77.600000</td>\n",
       "      <td>1.500000</td>\n",
       "      <td>3.300000</td>\n",
       "      <td>0.600000</td>\n",
       "      <td>20.900000</td>\n",
       "    </tr>\n",
       "    <tr>\n",
       "      <th>50%</th>\n",
       "      <td>79.600000</td>\n",
       "      <td>89.000000</td>\n",
       "      <td>81.700000</td>\n",
       "      <td>2.200000</td>\n",
       "      <td>9.500000</td>\n",
       "      <td>1.700000</td>\n",
       "      <td>26.400000</td>\n",
       "    </tr>\n",
       "    <tr>\n",
       "      <th>75%</th>\n",
       "      <td>84.900000</td>\n",
       "      <td>110.000000</td>\n",
       "      <td>86.500000</td>\n",
       "      <td>3.200000</td>\n",
       "      <td>15.800000</td>\n",
       "      <td>4.000000</td>\n",
       "      <td>33.000000</td>\n",
       "    </tr>\n",
       "    <tr>\n",
       "      <th>max</th>\n",
       "      <td>100.400000</td>\n",
       "      <td>163.600000</td>\n",
       "      <td>100.300000</td>\n",
       "      <td>5.500000</td>\n",
       "      <td>22.200000</td>\n",
       "      <td>6.000000</td>\n",
       "      <td>51.500000</td>\n",
       "    </tr>\n",
       "  </tbody>\n",
       "</table>\n",
       "</div>"
      ],
      "text/plain": [
       "          lifespan         mass      genetic     exercise      smoking  \\\n",
       "count  3977.000000  3977.000000  3977.000000  3977.000000  3977.000000   \n",
       "mean     79.988358    91.708801    82.038823     2.404249     9.780639   \n",
       "std       7.453324    25.246900     7.087155     1.170096     6.910443   \n",
       "min      59.700000    50.000000    64.000000     0.100000     0.000000   \n",
       "25%      75.000000    71.300000    77.600000     1.500000     3.300000   \n",
       "50%      79.600000    89.000000    81.700000     2.200000     9.500000   \n",
       "75%      84.900000   110.000000    86.500000     3.200000    15.800000   \n",
       "max     100.400000   163.600000   100.300000     5.500000    22.200000   \n",
       "\n",
       "           alcohol          bmi  \n",
       "count  3977.000000  3977.000000  \n",
       "mean      2.269776    27.419437  \n",
       "std       1.803397     8.306686  \n",
       "min       0.000000    11.300000  \n",
       "25%       0.600000    20.900000  \n",
       "50%       1.700000    26.400000  \n",
       "75%       4.000000    33.000000  \n",
       "max       6.000000    51.500000  "
      ]
     },
     "metadata": {},
     "output_type": "display_data"
    }
   ],
   "source": [
    "display(df5.describe())"
   ]
  },
  {
   "cell_type": "code",
   "execution_count": 87,
   "metadata": {},
   "outputs": [],
   "source": [
    "# # df3\n",
    "\n",
    "# #query db and write to pd:\n",
    "# dfFromDB = pd.read_sql_query(f\"SELECT * FROM {'df3'}\", dbConnection)\n",
    "# #sql adds index, remove:\n",
    "# df3 = dfFromDB.drop('index', axis=1)\n",
    "# pd.set_option('display.max_columns', 10)\n",
    "# # display(df3.head())\n",
    "# # display(df3.info)\n",
    "# # display(df3.describe())"
   ]
  },
  {
   "cell_type": "code",
   "execution_count": 88,
   "metadata": {},
   "outputs": [
    {
     "data": {
      "text/html": [
       "<div>\n",
       "<style scoped>\n",
       "    .dataframe tbody tr th:only-of-type {\n",
       "        vertical-align: middle;\n",
       "    }\n",
       "\n",
       "    .dataframe tbody tr th {\n",
       "        vertical-align: top;\n",
       "    }\n",
       "\n",
       "    .dataframe thead th {\n",
       "        text-align: right;\n",
       "    }\n",
       "</style>\n",
       "<table border=\"1\" class=\"dataframe\">\n",
       "  <thead>\n",
       "    <tr style=\"text-align: right;\">\n",
       "      <th></th>\n",
       "      <th>lifespan</th>\n",
       "      <th>mass</th>\n",
       "      <th>genetic</th>\n",
       "      <th>exercise</th>\n",
       "      <th>smoking</th>\n",
       "      <th>alcohol</th>\n",
       "      <th>bmi</th>\n",
       "      <th>length</th>\n",
       "      <th>sugar</th>\n",
       "    </tr>\n",
       "  </thead>\n",
       "  <tbody>\n",
       "    <tr>\n",
       "      <th>0</th>\n",
       "      <td>73.1</td>\n",
       "      <td>99.7</td>\n",
       "      <td>73.9</td>\n",
       "      <td>0.9</td>\n",
       "      <td>0.0</td>\n",
       "      <td>2.4</td>\n",
       "      <td>29.1</td>\n",
       "      <td>185.0</td>\n",
       "      <td>6.9</td>\n",
       "    </tr>\n",
       "    <tr>\n",
       "      <th>1</th>\n",
       "      <td>85.0</td>\n",
       "      <td>105.4</td>\n",
       "      <td>86.0</td>\n",
       "      <td>1.8</td>\n",
       "      <td>8.1</td>\n",
       "      <td>0.4</td>\n",
       "      <td>35.6</td>\n",
       "      <td>172.0</td>\n",
       "      <td>4.2</td>\n",
       "    </tr>\n",
       "  </tbody>\n",
       "</table>\n",
       "</div>"
      ],
      "text/plain": [
       "   lifespan   mass  genetic  exercise  smoking  alcohol   bmi  length  sugar\n",
       "0      73.1   99.7     73.9       0.9      0.0      2.4  29.1   185.0    6.9\n",
       "1      85.0  105.4     86.0       1.8      8.1      0.4  35.6   172.0    4.2"
      ]
     },
     "metadata": {},
     "output_type": "display_data"
    },
    {
     "data": {
      "text/plain": [
       "<bound method DataFrame.info of       lifespan   mass  genetic  exercise  smoking  alcohol   bmi  length  \\\n",
       "0         73.1   99.7     73.9       0.9      0.0      2.4  29.1   185.0   \n",
       "1         85.0  105.4     86.0       1.8      8.1      0.4  35.6   172.0   \n",
       "2         81.6  111.4     83.3       1.1      0.8      4.6  36.0   176.0   \n",
       "3         81.0  111.4     82.8       4.7     11.8      1.0  41.4   164.0   \n",
       "4         75.0   71.6     78.7       1.5      8.3      4.9  22.6   178.0   \n",
       "...        ...    ...      ...       ...      ...      ...   ...     ...   \n",
       "3972      82.4   53.2     90.0       3.6     22.0      4.8  15.1   188.0   \n",
       "3973      80.7  115.9     80.3       3.7      0.1      5.6  37.4   176.0   \n",
       "3974      71.1  129.6     75.3       3.6      6.2      5.6  49.4   162.0   \n",
       "3975      90.0  115.3     93.1       2.7      9.4      4.9  32.3   189.0   \n",
       "3976      75.9   90.8     77.9       2.3     13.2      0.8  31.4   170.0   \n",
       "\n",
       "      sugar  \n",
       "0       6.9  \n",
       "1       4.2  \n",
       "2       7.5  \n",
       "3       2.9  \n",
       "4       5.5  \n",
       "...     ...  \n",
       "3972    8.9  \n",
       "3973    5.8  \n",
       "3974    7.6  \n",
       "3975    6.6  \n",
       "3976    6.2  \n",
       "\n",
       "[3977 rows x 9 columns]>"
      ]
     },
     "metadata": {},
     "output_type": "display_data"
    }
   ],
   "source": [
    "#query db and write to pd:\n",
    "dfFromDB = pd.read_sql_query(f\"SELECT * FROM {'df5_1'}\", dbConnection)\n",
    "#sql adds index, remove:\n",
    "df5_1 = dfFromDB.drop('index', axis=1)\n",
    "pd.set_option('display.max_columns', 10)\n",
    "display(df5_1.head(2))\n",
    "display(df5_1.info)\n"
   ]
  },
  {
   "cell_type": "code",
   "execution_count": 89,
   "metadata": {},
   "outputs": [],
   "source": [
    "dbConnection.close()"
   ]
  },
  {
   "attachments": {},
   "cell_type": "markdown",
   "metadata": {},
   "source": [
    "# make spit for df1"
   ]
  },
  {
   "cell_type": "code",
   "execution_count": 90,
   "metadata": {},
   "outputs": [],
   "source": [
    "# functie om coefficient of determination(R²) vanilla: te berekenen\n",
    "# StDek\n",
    "\n",
    "def coefficient_R(x):\n",
    "        # R^2\n",
    "    train, test = train_test_split(x, test_size=0.2, random_state=42) # random state 42 om steeds de zelfde split te maken.\n",
    "    \n",
    "    X = train.drop(['lifespan'], axis=1) # definieer de Xas. Drop de waarde die op de Y-as komt\n",
    "    y = train.lifespan # de waarde die op de y-as komt. \n",
    "    regr = linear_model.LinearRegression()\n",
    "    regr.fit(X, y) \n",
    "    score = regr.score(test.drop(['lifespan'],axis=1),test.lifespan)\n",
    "    print(f'coefficient of determination(R\\N{SUPERSCRIPT TWO}) vanilla:', score) # print de waarde die we willen zien. \n",
    "    \n",
    "    # RMSE \t\n",
    "\n",
    "    p_test = regr.predict(x.drop(columns='lifespan'))\t\n",
    "\t\n",
    "    mse = mean_squared_error(x.lifespan, p_test)\t\n",
    "    \n",
    "    rmse = (math.sqrt(mse))\t\n",
    "    print(f'Interpret Root Mean Square Error: {rmse}')\t"
   ]
  },
  {
   "cell_type": "code",
   "execution_count": 91,
   "metadata": {},
   "outputs": [],
   "source": [
    "# test veld\n",
    "\n",
    "# df = df2.copy()\n",
    "# coefficient_R(df)"
   ]
  },
  {
   "cell_type": "code",
   "execution_count": 92,
   "metadata": {},
   "outputs": [],
   "source": [
    "\n",
    "# x_train, x_test, y_train, y_test = train_test_s[df1.drop(['lifespan'], axis=1)]plit(df1, test_size=0.2, random_state=42)\n",
    "# X = x_train \n",
    "# y = y_train.lifespan\n",
    "# regr = linear_model.LinearRegression()\n",
    "\n",
    "# regr.fit(X,y)"
   ]
  },
  {
   "cell_type": "code",
   "execution_count": 93,
   "metadata": {},
   "outputs": [
    {
     "name": "stdout",
     "output_type": "stream",
     "text": [
      "coefficient of determination(R²) vanilla: 0.980805278489876\n",
      "Interpret Root Mean Square Error: 1.0817512110573468\n"
     ]
    }
   ],
   "source": [
    "# df1\n",
    "\n",
    "# create the df to be trained.\n",
    " \n",
    "coefficient_R(df5)"
   ]
  },
  {
   "cell_type": "markdown",
   "metadata": {},
   "source": []
  },
  {
   "cell_type": "code",
   "execution_count": 94,
   "metadata": {},
   "outputs": [
    {
     "name": "stdout",
     "output_type": "stream",
     "text": [
      "coefficient of determination(R²) vanilla: 0.9820618333051058\n",
      "Interpret Root Mean Square Error: 1.0543180939446808\n"
     ]
    }
   ],
   "source": [
    "# df2\n",
    "\n",
    "# create the df to be trained.\n",
    "\n",
    " \n",
    "coefficient_R(df5_1)"
   ]
  },
  {
   "attachments": {},
   "cell_type": "markdown",
   "metadata": {},
   "source": [
    "<!-- train, test = train_test_split(temp, test_size=0.2, random_state=42)\n",
    " \n",
    "X = train[['genetic', 'length', 'mass', 'exercise', 'smoking', 'alcohol', 'sugar']]\n",
    "y = train.lifespan\n",
    "regr = linear_model.LinearRegression()\n",
    "regr.fit(X, y) \n",
    "score = regr.score(test[['genetic', 'length', 'mass', 'exercise', 'smoking', 'alcohol', 'sugar']],test.lifespan)\n",
    "print(f'coefficient of determination(R\\N{SUPERSCRIPT TWO}) vanilla:', score)\n",
    "a1=score -->"
   ]
  },
  {
   "cell_type": "code",
   "execution_count": 95,
   "metadata": {},
   "outputs": [
    {
     "name": "stdout",
     "output_type": "stream",
     "text": [
      "Empty DataFrame\n",
      "Columns: [lifespan, mass, genetic, exercise, smoking, alcohol, bmi]\n",
      "Index: []\n"
     ]
    }
   ],
   "source": [
    "# kijk met isna welke values NaN zijn. met any waar isna true is en selecteer die met loc\n",
    "df5_contains_NaN = df5.loc[df5.isna().any(axis=1)]\n",
    "\n",
    "# print het resultaat\n",
    "print(df5_contains_NaN)"
   ]
  }
 ],
 "metadata": {
  "kernelspec": {
   "display_name": "miw",
   "language": "python",
   "name": "python3"
  },
  "language_info": {
   "codemirror_mode": {
    "name": "ipython",
    "version": 3
   },
   "file_extension": ".py",
   "mimetype": "text/x-python",
   "name": "python",
   "nbconvert_exporter": "python",
   "pygments_lexer": "ipython3",
   "version": "3.10.9"
  },
  "orig_nbformat": 4
 },
 "nbformat": 4,
 "nbformat_minor": 2
}
