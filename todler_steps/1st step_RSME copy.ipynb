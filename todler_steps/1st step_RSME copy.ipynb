{
 "cells": [
  {
   "cell_type": "code",
   "execution_count": null,
   "metadata": {},
   "outputs": [],
   "source": [
    "# Imports\n",
    "import logging\n",
    "import pandas as pd\n",
    "import requests \n",
    "import sqlite3\n",
    "import sklearn\n",
    "from sklearn import linear_model\n",
    "from sklearn.model_selection import train_test_split\n",
    "from sklearn.metrics import mean_squared_error\t\n",
    "import math\t\n",
    "\n",
    "#logging info\n",
    "logging.basicConfig(level = logging.DEBUG)\n",
    "\n",
    "\n",
    "\n",
    "dbName = \"../rest_server/medisch_centrum_randstad/db.sqlite3\"\n",
    "tableName = \"rest_api_netlify\"\n",
    "url = \"http://localhost:8080/medish_centrum_randstad/api/netlify?page=1\"\n",
    "csvFile = \"rest_server_new/medisch_centrum_randstad/data/data.csv\"\n",
    "\n",
    "##########################\n",
    "### Read from REST API ###\n",
    "##########################\n",
    "# logging.info(\"Extract from REST API\")\n",
    "# response = requests.get(url)\n",
    "# file_contents= response.json()  #dictionary\n",
    "# logging.info(\"Load API Response into Pandas dataframe\")\n",
    "# df = pd.DataFrame.from_dict(file_contents['data']) #all the needed info was condensed into one data column called 'data'\n",
    "# df3 = df.copy() #keep original for df3 \n",
    "# logging.debug(df.head())\n",
    "# logging.info(\"Load dataset in Database\")\n",
    "\n",
    "######################\n",
    "### Read from .csv ###\n",
    "######################\n",
    "#df pd.read_csv('csvFile',skipinitialspace=True)\n",
    "#df3 = df.copy() #keep original for df3 \n",
    "#logging.info(\"Load dataset in Database\")\n",
    "\n",
    "#\n"
   ]
  },
  {
   "cell_type": "code",
   "execution_count": null,
   "metadata": {},
   "outputs": [],
   "source": [
    "###########################\n",
    "### Read from SQlite3 db ###\n",
    "############################\n",
    "dbConnection = sqlite3.connect(dbName)\n"
   ]
  },
  {
   "cell_type": "code",
   "execution_count": null,
   "metadata": {},
   "outputs": [],
   "source": [
    "# # df1\n",
    "\n",
    "# #query db and write to pd:\n",
    "# dfFromDB = pd.read_sql_query(f\"SELECT * FROM {'df1'}\", dbConnection)\n",
    "# #sql adds index, remove:\n",
    "# df1 = dfFromDB.drop('index', axis=1)\n",
    "# pd.set_option('display.max_columns', 10)\n",
    "# display(df1.head())\n",
    "# # display(df1.info)# "
   ]
  },
  {
   "cell_type": "code",
   "execution_count": null,
   "metadata": {},
   "outputs": [],
   "source": [
    "#query db and write to pd:\n",
    "dfFromDB = pd.read_sql_query(f\"SELECT * FROM {'df2'}\", dbConnection)\n",
    "#sql adds index, remove:\n",
    "df2 = dfFromDB.drop('index', axis=1)\n",
    "pd.set_option('display.max_columns', 10)\n",
    "display(df2.head(2))\n",
    "display(df2.info)\n"
   ]
  },
  {
   "cell_type": "code",
   "execution_count": null,
   "metadata": {},
   "outputs": [],
   "source": [
    "display(df2.describe())"
   ]
  },
  {
   "cell_type": "code",
   "execution_count": null,
   "metadata": {},
   "outputs": [],
   "source": [
    "# # df3\n",
    "\n",
    "# #query db and write to pd:\n",
    "# dfFromDB = pd.read_sql_query(f\"SELECT * FROM {'df3'}\", dbConnection)\n",
    "# #sql adds index, remove:\n",
    "# df3 = dfFromDB.drop('index', axis=1)\n",
    "# pd.set_option('display.max_columns', 10)\n",
    "# # display(df3.head())\n",
    "# # display(df3.info)\n",
    "# # display(df3.describe())"
   ]
  },
  {
   "cell_type": "code",
   "execution_count": null,
   "metadata": {},
   "outputs": [],
   "source": [
    "dbConnection.close()"
   ]
  },
  {
   "attachments": {},
   "cell_type": "markdown",
   "metadata": {},
   "source": [
    "# make spit for df1"
   ]
  },
  {
   "cell_type": "code",
   "execution_count": null,
   "metadata": {},
   "outputs": [],
   "source": [
    "# functie om coefficient of determination(R²) vanilla: te berekenen\n",
    "# StDek\n",
    "\n",
    "def coefficient_R(x):\n",
    "        # R^2\n",
    "    train, test = train_test_split(x, test_size=0.2, random_state=42) # random state 42 om steeds de zelfde split te maken.\n",
    "    \n",
    "    X = train.drop(['lifespan'], axis=1) # definieer de Xas. Drop de waarde die op de Y-as komt\n",
    "    y = train.lifespan # de waarde die op de y-as komt. \n",
    "    regr = linear_model.LinearRegression()\n",
    "    regr.fit(X, y) \n",
    "    score = regr.score(test.drop(['lifespan'],axis=1),test.lifespan)\n",
    "    print(f'coefficient of determination(R\\N{SUPERSCRIPT TWO}) vanilla:', score) # print de waarde die we willen zien. \n",
    "    \n",
    "    # RMSE \t\n",
    "\n",
    "    p_test = regr.predict(x.drop(columns='lifespan'))\t\n",
    "\t\n",
    "    mse = mean_squared_error(x.lifespan, p_test)\t\n",
    "    \n",
    "    rmse = (math.sqrt(mse))\t\n",
    "    print(f'Interpret Root Mean Square Error: {rmse}')\t"
   ]
  },
  {
   "cell_type": "code",
   "execution_count": null,
   "metadata": {},
   "outputs": [],
   "source": [
    "# test veld\n",
    "\n",
    "# df = df2.copy()\n",
    "# coefficient_R(df)"
   ]
  },
  {
   "cell_type": "code",
   "execution_count": null,
   "metadata": {},
   "outputs": [],
   "source": [
    "\n",
    "# x_train, x_test, y_train, y_test = train_test_s[df1.drop(['lifespan'], axis=1)]plit(df1, test_size=0.2, random_state=42)\n",
    "# X = x_train \n",
    "# y = y_train.lifespan\n",
    "# regr = linear_model.LinearRegression()\n",
    "\n",
    "# regr.fit(X,y)"
   ]
  },
  {
   "cell_type": "code",
   "execution_count": null,
   "metadata": {},
   "outputs": [],
   "source": [
    "# df1\n",
    "\n",
    "# create the df to be trained.\n",
    "df = df2.drop(['BMI'], axis=1).copy()\n",
    " \n",
    "coefficient_R(df)\n",
    "error = p_test.flatten() - y_test.values\n",
    "print()\n",
    "type(error)"
   ]
  },
  {
   "cell_type": "code",
   "execution_count": null,
   "metadata": {},
   "outputs": [],
   "source": [
    "# df2\n",
    "\n",
    "# create the df to be trained.\n",
    "df = df2.copy()\n",
    " \n",
    "coefficient_R(df)"
   ]
  },
  {
   "cell_type": "code",
   "execution_count": null,
   "metadata": {},
   "outputs": [],
   "source": [
    "# df3\n",
    "\n",
    "# create the df to be trained.\n",
    "df = df2.copy()\n",
    "\n",
    "## the IQR clipping for outliers \n",
    "# Computing IQR\n",
    "Q1 = df.quantile(0.25)\n",
    "Q3 = df.quantile(0.75)\n",
    "IQR = Q3 - Q1\n",
    "\n",
    "# Clipping the IQR*|15.*IQD|\n",
    "mean = df.mean()\n",
    "df = df.clip(lower=mean - 1.5 * IQR, upper=mean + 1.5 * IQR, axis=1)\n",
    " \n",
    "\n",
    "coefficient_R(df)"
   ]
  },
  {
   "attachments": {},
   "cell_type": "markdown",
   "metadata": {},
   "source": [
    "<!-- train, test = train_test_split(temp, test_size=0.2, random_state=42)\n",
    " \n",
    "X = train[['genetic', 'length', 'mass', 'exercise', 'smoking', 'alcohol', 'sugar']]\n",
    "y = train.lifespan\n",
    "regr = linear_model.LinearRegression()\n",
    "regr.fit(X, y) \n",
    "score = regr.score(test[['genetic', 'length', 'mass', 'exercise', 'smoking', 'alcohol', 'sugar']],test.lifespan)\n",
    "print(f'coefficient of determination(R\\N{SUPERSCRIPT TWO}) vanilla:', score)\n",
    "a1=score -->"
   ]
  },
  {
   "cell_type": "code",
   "execution_count": null,
   "metadata": {},
   "outputs": [],
   "source": [
    "# df4 drop outliers\n",
    "\n",
    "# create the df to be trained.\n",
    "df = df2.copy()\n",
    "\n",
    "## the IQR clipping for outliers \n",
    "# Computing IQR\n",
    "Q1 = df.quantile(0.25)\n",
    "Q3 = df.quantile(0.75)\n",
    "IQR = Q3 - Q1\n",
    "\n",
    "# Clipping the IQR*|15.*IQD|\n",
    "df = df[~((df < (Q1 - 1.5 * IQR)) |(df > (Q3 + 1.5 * IQR))).any(axis=1)]\n",
    "\n",
    "\n",
    "coefficient_R(df)"
   ]
  },
  {
   "cell_type": "code",
   "execution_count": null,
   "metadata": {},
   "outputs": [],
   "source": [
    "# DF2 met X = df.drop(['index', 'mass', 'length', 'lifespan'], axis=1)\n",
    "\n",
    "# create the df to be trained.\n",
    "df = df2.drop(['mass','length'], axis=1).copy()\n",
    " \n",
    "coefficient_R(df)"
   ]
  },
  {
   "cell_type": "code",
   "execution_count": null,
   "metadata": {},
   "outputs": [],
   "source": [
    "# df5\n",
    "\n",
    "# create the df to be trained.\n",
    "df = df2[['lifespan','genetic','BMI']].copy()\n",
    " \n",
    "coefficient_R(df)"
   ]
  },
  {
   "cell_type": "code",
   "execution_count": null,
   "metadata": {},
   "outputs": [],
   "source": [
    "# DF2 genetic\n",
    "\n",
    "# create the df to be trained.\n",
    "df = df2[['lifespan','genetic']].copy()\n",
    "\n",
    "coefficient_R(df)"
   ]
  },
  {
   "cell_type": "code",
   "execution_count": null,
   "metadata": {},
   "outputs": [],
   "source": [
    "# DF2 length\n",
    "\n",
    "# create the df to be trained.\n",
    "df = df2[['lifespan','length']].copy()\n",
    "\n",
    "coefficient_R(df)"
   ]
  },
  {
   "cell_type": "code",
   "execution_count": null,
   "metadata": {},
   "outputs": [],
   "source": [
    "# DF2 mass\n",
    "# create the df to be trained.\n",
    "df = df2[['lifespan','mass']].copy()\n",
    "\n",
    "coefficient_R(df)"
   ]
  },
  {
   "cell_type": "code",
   "execution_count": null,
   "metadata": {},
   "outputs": [],
   "source": [
    "# DF2 exercise\n",
    "# create the df to be trained.\n",
    "df = df2[['lifespan','exercise']].copy()\n",
    "\n",
    "coefficient_R(df)\n"
   ]
  },
  {
   "cell_type": "code",
   "execution_count": null,
   "metadata": {},
   "outputs": [],
   "source": [
    "# DF2 smoking\n",
    "# create the df to be trained.\n",
    "df = df2[['lifespan','smoking']].copy()\n",
    "\n",
    "coefficient_R(df)"
   ]
  },
  {
   "cell_type": "code",
   "execution_count": null,
   "metadata": {},
   "outputs": [],
   "source": [
    "# DF2 alcohol\n",
    "# create the df to be trained.\n",
    "df = df2[['lifespan','alcohol']].copy()\n",
    "\n",
    "coefficient_R(df)"
   ]
  },
  {
   "cell_type": "code",
   "execution_count": null,
   "metadata": {},
   "outputs": [],
   "source": [
    "# DF2 sugar\n",
    "# create the df to be trained.\n",
    "df = df2[['lifespan','sugar']].copy()\n",
    "\n",
    "coefficient_R(df)"
   ]
  },
  {
   "cell_type": "code",
   "execution_count": null,
   "metadata": {},
   "outputs": [],
   "source": [
    "# DF2 BMI\n",
    "# create the df to be trained.\n",
    "df = df2[['lifespan','BMI']].copy()\n",
    "\n",
    "coefficient_R(df)"
   ]
  },
  {
   "cell_type": "code",
   "execution_count": null,
   "metadata": {},
   "outputs": [],
   "source": [
    "# df1\n",
    "\n",
    "# create the df to be trained.\n",
    "df = df2.drop(['length','sugar'], axis=1).copy()\n",
    " \n",
    "coefficient_R(df)"
   ]
  }
 ],
 "metadata": {
  "kernelspec": {
   "display_name": "miw",
   "language": "python",
   "name": "python3"
  },
  "language_info": {
   "codemirror_mode": {
    "name": "ipython",
    "version": 3
   },
   "file_extension": ".py",
   "mimetype": "text/x-python",
   "name": "python",
   "nbconvert_exporter": "python",
   "pygments_lexer": "ipython3",
   "version": "3.10.9"
  },
  "orig_nbformat": 4
 },
 "nbformat": 4,
 "nbformat_minor": 2
}
