{
 "cells": [
  {
   "cell_type": "code",
   "execution_count": 78,
   "metadata": {},
   "outputs": [],
   "source": [
    "# imports\n",
    "# import pickle\n",
    "# import logging\n",
    "import sqlite3\n",
    "import pandas as pd\n",
    "import sys\n",
    "import logging\n",
    "import pandas as pd\n",
    "import statsmodels as sm\n",
    "import statsmodels.formula.api as smf\n",
    "import sqlite3\n",
    "from datetime import datetime\n"
   ]
  },
  {
   "cell_type": "code",
   "execution_count": 80,
   "metadata": {},
   "outputs": [
    {
     "name": "stdout",
     "output_type": "stream",
     "text": [
      "    feature  acc_min  acc_max                             per\n",
      "0   genetic       50      121                    age in years\n",
      "1    length      140      221                           in cm\n",
      "2      mass       40      171                           in kg\n",
      "3   alcohol        0       21  consumption in glasses per day\n",
      "4     sugar        0       21    consumption in cubes per day\n",
      "5   smoking        0       41           in sigarettes per day\n",
      "6  exercise        0        9                in hours per day\n"
     ]
    }
   ],
   "source": [
    "# create df_q to have the values for the input questions to be asked. \n",
    "data_questions = {'feature': ['genetic', 'length', 'mass', 'alcohol', 'sugar', 'smoking', 'exercise'],\n",
    "        'acc_min': [50,140,40,0,0,0,0],\n",
    "        'acc_max': [121,221,171,21,21,41,9],\n",
    "        'per':['age in years','in cm','in kg','consumption in glasses per day',\n",
    "               'consumption in cubes per day','in sigarettes per day','in hours per day'] }\n",
    "\n",
    "# Create DataFrame\n",
    "df_q = pd.DataFrame(data_questions) \n",
    "\n",
    "print (df_q)"
   ]
  },
  {
   "cell_type": "code",
   "execution_count": null,
   "metadata": {},
   "outputs": [],
   "source": [
    "\n",
    "# create the function to ask the question per 'feature'\n",
    "def input_q(name):\n",
    "    min,max, per = df_q.loc[df_q['feature'] == name, ['acc_min','acc_max', 'per']].values[0]\n",
    "    return int(inputDigit(f\"Please enter, {name} {per} in the range: {min}-{max-1} \", range(min,max)))"
   ]
  },
  {
   "cell_type": "code",
   "execution_count": 113,
   "metadata": {},
   "outputs": [
    {
     "data": {
      "text/html": [
       "<div>\n",
       "<style scoped>\n",
       "    .dataframe tbody tr th:only-of-type {\n",
       "        vertical-align: middle;\n",
       "    }\n",
       "\n",
       "    .dataframe tbody tr th {\n",
       "        vertical-align: top;\n",
       "    }\n",
       "\n",
       "    .dataframe thead th {\n",
       "        text-align: right;\n",
       "    }\n",
       "</style>\n",
       "<table border=\"1\" class=\"dataframe\">\n",
       "  <thead>\n",
       "    <tr style=\"text-align: right;\">\n",
       "      <th></th>\n",
       "      <th>version</th>\n",
       "      <th>genetic</th>\n",
       "      <th>length</th>\n",
       "      <th>mass</th>\n",
       "      <th>alcohol</th>\n",
       "      <th>sugar</th>\n",
       "      <th>smoking</th>\n",
       "      <th>exercise</th>\n",
       "      <th>prediction</th>\n",
       "    </tr>\n",
       "  </thead>\n",
       "  <tbody>\n",
       "  </tbody>\n",
       "</table>\n",
       "</div>"
      ],
      "text/plain": [
       "Empty DataFrame\n",
       "Columns: [version, genetic, length, mass, alcohol, sugar, smoking, exercise, prediction]\n",
       "Index: []"
      ]
     },
     "metadata": {},
     "output_type": "display_data"
    }
   ],
   "source": [
    "df_input = pd.DataFrame(columns=['version','genetic', 'length', 'mass', 'alcohol', 'sugar', 'smoking', 'exercise','prediction'])\n",
    "display (df_input)"
   ]
  },
  {
   "cell_type": "code",
   "execution_count": null,
   "metadata": {},
   "outputs": [],
   "source": []
  }
 ],
 "metadata": {
  "kernelspec": {
   "display_name": "miw",
   "language": "python",
   "name": "python3"
  },
  "language_info": {
   "codemirror_mode": {
    "name": "ipython",
    "version": 3
   },
   "file_extension": ".py",
   "mimetype": "text/x-python",
   "name": "python",
   "nbconvert_exporter": "python",
   "pygments_lexer": "ipython3",
   "version": "3.10.9"
  },
  "orig_nbformat": 4
 },
 "nbformat": 4,
 "nbformat_minor": 2
}
