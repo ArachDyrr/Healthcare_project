{
 "cells": [
  {
   "cell_type": "markdown",
   "id": "0fe58f95-cfe5-4828-8a81-37ba6adf3e0f",
   "metadata": {},
   "source": [
    "# Get the data and import the necessary librairies.\n"
   ]
  },
  {
   "cell_type": "code",
   "execution_count": 99,
   "id": "e6a19d7d-acc6-4a32-b106-40a0bd4332e3",
   "metadata": {},
   "outputs": [],
   "source": [
    "# ... import the relevant librairies\n",
    "\n",
    "import requests\n",
    "import pandas as pd\n",
    "import seaborn as sns\n",
    "import matplotlib.pyplot as plt"
   ]
  },
  {
   "cell_type": "code",
   "execution_count": 57,
   "id": "fbd442a7-1bf3-44c9-a32c-0c859fd668a8",
   "metadata": {},
   "outputs": [],
   "source": [
    "# ... go to terminal :  ../rest_server/ \n",
    "# ... run ./start_rest_server.sh\n",
    "\n",
    "# ... download from the API with request.get\n",
    "\n",
    "response = requests.get('http://localhost:8080/medish_centrum_randstad/api/netlify?page=1') \n",
    "\n",
    "# ... change the response into dictionairy structured as a .json this does also check if the structure is suitable for a .json\n",
    "\n",
    "raw_data = response.json()\n",
    "\n",
    "\n",
    "\n",
    "# ... create a pandas dataframe named df\n",
    "\n",
    "df = pd.DataFrame.from_dict(raw_data['data']) \n",
    "# print(type(download))\n",
    "# print(type(raw_data))\n",
    "# display(raw_data)\n",
    "# display(df)"
   ]
  },
  {
   "cell_type": "markdown",
   "id": "70659401-bab0-4a3c-a809-505a9a719fb0",
   "metadata": {},
   "source": [
    "*Run this to safe the dataframe as .csv*"
   ]
  },
  {
   "cell_type": "code",
   "execution_count": null,
   "id": "13ebe25b-a99a-4182-a846-6bd16a824d2c",
   "metadata": {},
   "outputs": [],
   "source": [
    "# ... safe the df as a .csv were the delimiter is a semi colon. \n",
    "\n",
    "# df.to_csv('../edited_files/raw_data.csv', index=False,sep=';')\n"
   ]
  },
  {
   "cell_type": "code",
   "execution_count": 58,
   "id": "8ba3fbc7-a4d9-42a1-98b0-a6c5f4912639",
   "metadata": {},
   "outputs": [
    {
     "data": {
      "text/html": [
       "<div>\n",
       "<style scoped>\n",
       "    .dataframe tbody tr th:only-of-type {\n",
       "        vertical-align: middle;\n",
       "    }\n",
       "\n",
       "    .dataframe tbody tr th {\n",
       "        vertical-align: top;\n",
       "    }\n",
       "\n",
       "    .dataframe thead th {\n",
       "        text-align: right;\n",
       "    }\n",
       "</style>\n",
       "<table border=\"1\" class=\"dataframe\">\n",
       "  <thead>\n",
       "    <tr style=\"text-align: right;\">\n",
       "      <th></th>\n",
       "      <th>genetic</th>\n",
       "      <th>length</th>\n",
       "      <th>mass</th>\n",
       "      <th>exercise</th>\n",
       "      <th>smoking</th>\n",
       "      <th>alcohol</th>\n",
       "      <th>sugar</th>\n",
       "      <th>lifespan</th>\n",
       "    </tr>\n",
       "  </thead>\n",
       "  <tbody>\n",
       "    <tr>\n",
       "      <th>0</th>\n",
       "      <td>84.0</td>\n",
       "      <td>180.0</td>\n",
       "      <td>90.0</td>\n",
       "      <td>2.0</td>\n",
       "      <td>9.0</td>\n",
       "      <td>1.0</td>\n",
       "      <td>2</td>\n",
       "      <td>86</td>\n",
       "    </tr>\n",
       "    <tr>\n",
       "      <th>1</th>\n",
       "      <td>84.0</td>\n",
       "      <td>204.0</td>\n",
       "      <td>79.0</td>\n",
       "      <td>3.0</td>\n",
       "      <td>2.0</td>\n",
       "      <td>7.0</td>\n",
       "      <td>3</td>\n",
       "      <td>100</td>\n",
       "    </tr>\n",
       "    <tr>\n",
       "      <th>2</th>\n",
       "      <td>84.0</td>\n",
       "      <td>174.0</td>\n",
       "      <td>74.0</td>\n",
       "      <td>3.0</td>\n",
       "      <td>20.0</td>\n",
       "      <td>3.0</td>\n",
       "      <td>2</td>\n",
       "      <td>87</td>\n",
       "    </tr>\n",
       "    <tr>\n",
       "      <th>3</th>\n",
       "      <td>84.0</td>\n",
       "      <td>187.0</td>\n",
       "      <td>78.0</td>\n",
       "      <td>2.0</td>\n",
       "      <td>6.0</td>\n",
       "      <td>5.0</td>\n",
       "      <td>3</td>\n",
       "      <td>91</td>\n",
       "    </tr>\n",
       "    <tr>\n",
       "      <th>4</th>\n",
       "      <td>84.0</td>\n",
       "      <td>187.0</td>\n",
       "      <td>89.0</td>\n",
       "      <td>2.0</td>\n",
       "      <td>12.0</td>\n",
       "      <td>0.0</td>\n",
       "      <td>2</td>\n",
       "      <td>83</td>\n",
       "    </tr>\n",
       "  </tbody>\n",
       "</table>\n",
       "</div>"
      ],
      "text/plain": [
       "   genetic  length  mass  exercise  smoking  alcohol  sugar  lifespan\n",
       "0     84.0   180.0  90.0       2.0      9.0      1.0      2        86\n",
       "1     84.0   204.0  79.0       3.0      2.0      7.0      3       100\n",
       "2     84.0   174.0  74.0       3.0     20.0      3.0      2        87\n",
       "3     84.0   187.0  78.0       2.0      6.0      5.0      3        91\n",
       "4     84.0   187.0  89.0       2.0     12.0      0.0      2        83"
      ]
     },
     "execution_count": 58,
     "metadata": {},
     "output_type": "execute_result"
    }
   ],
   "source": [
    "df.head()\n"
   ]
  },
  {
   "cell_type": "code",
   "execution_count": 59,
   "id": "83c949f1-d371-434d-bc44-a09c430c5d50",
   "metadata": {},
   "outputs": [
    {
     "name": "stdout",
     "output_type": "stream",
     "text": [
      "<class 'pandas.core.frame.DataFrame'>\n",
      "RangeIndex: 8192 entries, 0 to 8191\n",
      "Data columns (total 8 columns):\n",
      " #   Column    Non-Null Count  Dtype  \n",
      "---  ------    --------------  -----  \n",
      " 0   genetic   8191 non-null   float64\n",
      " 1   length    8190 non-null   float64\n",
      " 2   mass      8191 non-null   float64\n",
      " 3   exercise  8191 non-null   float64\n",
      " 4   smoking   8191 non-null   float64\n",
      " 5   alcohol   8191 non-null   float64\n",
      " 6   sugar     8192 non-null   int64  \n",
      " 7   lifespan  8192 non-null   int64  \n",
      "dtypes: float64(6), int64(2)\n",
      "memory usage: 512.1 KB\n"
     ]
    }
   ],
   "source": [
    "df.info()"
   ]
  },
  {
   "cell_type": "code",
   "execution_count": 60,
   "id": "44230faf-99c5-46aa-a137-e0884b0723ea",
   "metadata": {},
   "outputs": [
    {
     "data": {
      "text/html": [
       "<div>\n",
       "<style scoped>\n",
       "    .dataframe tbody tr th:only-of-type {\n",
       "        vertical-align: middle;\n",
       "    }\n",
       "\n",
       "    .dataframe tbody tr th {\n",
       "        vertical-align: top;\n",
       "    }\n",
       "\n",
       "    .dataframe thead th {\n",
       "        text-align: right;\n",
       "    }\n",
       "</style>\n",
       "<table border=\"1\" class=\"dataframe\">\n",
       "  <thead>\n",
       "    <tr style=\"text-align: right;\">\n",
       "      <th></th>\n",
       "      <th>genetic</th>\n",
       "      <th>length</th>\n",
       "      <th>mass</th>\n",
       "      <th>exercise</th>\n",
       "      <th>smoking</th>\n",
       "      <th>alcohol</th>\n",
       "      <th>sugar</th>\n",
       "      <th>lifespan</th>\n",
       "    </tr>\n",
       "  </thead>\n",
       "  <tbody>\n",
       "    <tr>\n",
       "      <th>count</th>\n",
       "      <td>8191.000000</td>\n",
       "      <td>8190.000000</td>\n",
       "      <td>8191.000000</td>\n",
       "      <td>8191.000000</td>\n",
       "      <td>8191.000000</td>\n",
       "      <td>8191.000000</td>\n",
       "      <td>8192.000000</td>\n",
       "      <td>8192.000000</td>\n",
       "    </tr>\n",
       "    <tr>\n",
       "      <th>mean</th>\n",
       "      <td>79.967770</td>\n",
       "      <td>183.642735</td>\n",
       "      <td>79.794286</td>\n",
       "      <td>1.617141</td>\n",
       "      <td>9.773776</td>\n",
       "      <td>5.748260</td>\n",
       "      <td>2.423340</td>\n",
       "      <td>76.096069</td>\n",
       "    </tr>\n",
       "    <tr>\n",
       "      <th>std</th>\n",
       "      <td>1.634992</td>\n",
       "      <td>12.600441</td>\n",
       "      <td>12.076801</td>\n",
       "      <td>0.830975</td>\n",
       "      <td>6.967164</td>\n",
       "      <td>2.664489</td>\n",
       "      <td>0.950095</td>\n",
       "      <td>10.918167</td>\n",
       "    </tr>\n",
       "    <tr>\n",
       "      <th>min</th>\n",
       "      <td>76.000000</td>\n",
       "      <td>154.000000</td>\n",
       "      <td>60.000000</td>\n",
       "      <td>0.000000</td>\n",
       "      <td>0.000000</td>\n",
       "      <td>0.000000</td>\n",
       "      <td>1.000000</td>\n",
       "      <td>40.000000</td>\n",
       "    </tr>\n",
       "    <tr>\n",
       "      <th>25%</th>\n",
       "      <td>79.000000</td>\n",
       "      <td>174.000000</td>\n",
       "      <td>70.000000</td>\n",
       "      <td>1.000000</td>\n",
       "      <td>3.000000</td>\n",
       "      <td>4.000000</td>\n",
       "      <td>2.000000</td>\n",
       "      <td>68.000000</td>\n",
       "    </tr>\n",
       "    <tr>\n",
       "      <th>50%</th>\n",
       "      <td>80.000000</td>\n",
       "      <td>183.000000</td>\n",
       "      <td>79.000000</td>\n",
       "      <td>1.000000</td>\n",
       "      <td>10.000000</td>\n",
       "      <td>6.000000</td>\n",
       "      <td>2.000000</td>\n",
       "      <td>76.000000</td>\n",
       "    </tr>\n",
       "    <tr>\n",
       "      <th>75%</th>\n",
       "      <td>81.000000</td>\n",
       "      <td>193.000000</td>\n",
       "      <td>88.000000</td>\n",
       "      <td>2.000000</td>\n",
       "      <td>16.000000</td>\n",
       "      <td>8.000000</td>\n",
       "      <td>3.000000</td>\n",
       "      <td>83.000000</td>\n",
       "    </tr>\n",
       "    <tr>\n",
       "      <th>max</th>\n",
       "      <td>84.000000</td>\n",
       "      <td>214.000000</td>\n",
       "      <td>112.000000</td>\n",
       "      <td>4.000000</td>\n",
       "      <td>22.000000</td>\n",
       "      <td>10.000000</td>\n",
       "      <td>5.000000</td>\n",
       "      <td>113.000000</td>\n",
       "    </tr>\n",
       "  </tbody>\n",
       "</table>\n",
       "</div>"
      ],
      "text/plain": [
       "           genetic       length         mass     exercise      smoking  \\\n",
       "count  8191.000000  8190.000000  8191.000000  8191.000000  8191.000000   \n",
       "mean     79.967770   183.642735    79.794286     1.617141     9.773776   \n",
       "std       1.634992    12.600441    12.076801     0.830975     6.967164   \n",
       "min      76.000000   154.000000    60.000000     0.000000     0.000000   \n",
       "25%      79.000000   174.000000    70.000000     1.000000     3.000000   \n",
       "50%      80.000000   183.000000    79.000000     1.000000    10.000000   \n",
       "75%      81.000000   193.000000    88.000000     2.000000    16.000000   \n",
       "max      84.000000   214.000000   112.000000     4.000000    22.000000   \n",
       "\n",
       "           alcohol        sugar     lifespan  \n",
       "count  8191.000000  8192.000000  8192.000000  \n",
       "mean      5.748260     2.423340    76.096069  \n",
       "std       2.664489     0.950095    10.918167  \n",
       "min       0.000000     1.000000    40.000000  \n",
       "25%       4.000000     2.000000    68.000000  \n",
       "50%       6.000000     2.000000    76.000000  \n",
       "75%       8.000000     3.000000    83.000000  \n",
       "max      10.000000     5.000000   113.000000  "
      ]
     },
     "execution_count": 60,
     "metadata": {},
     "output_type": "execute_result"
    }
   ],
   "source": [
    "df.describe()"
   ]
  },
  {
   "cell_type": "code",
   "execution_count": 64,
   "id": "ab5e850c-7f0a-4817-bb22-f43fb12ea87e",
   "metadata": {},
   "outputs": [
    {
     "data": {
      "text/html": [
       "<div>\n",
       "<style scoped>\n",
       "    .dataframe tbody tr th:only-of-type {\n",
       "        vertical-align: middle;\n",
       "    }\n",
       "\n",
       "    .dataframe tbody tr th {\n",
       "        vertical-align: top;\n",
       "    }\n",
       "\n",
       "    .dataframe thead th {\n",
       "        text-align: right;\n",
       "    }\n",
       "</style>\n",
       "<table border=\"1\" class=\"dataframe\">\n",
       "  <thead>\n",
       "    <tr style=\"text-align: right;\">\n",
       "      <th></th>\n",
       "      <th>genetic</th>\n",
       "      <th>length</th>\n",
       "      <th>mass</th>\n",
       "      <th>exercise</th>\n",
       "      <th>alcohol</th>\n",
       "      <th>sugar</th>\n",
       "      <th>lifespan</th>\n",
       "    </tr>\n",
       "  </thead>\n",
       "  <tbody>\n",
       "    <tr>\n",
       "      <th>0</th>\n",
       "      <td>84.0</td>\n",
       "      <td>180.0</td>\n",
       "      <td>90.0</td>\n",
       "      <td>2.0</td>\n",
       "      <td>1.0</td>\n",
       "      <td>2</td>\n",
       "      <td>86</td>\n",
       "    </tr>\n",
       "    <tr>\n",
       "      <th>1</th>\n",
       "      <td>84.0</td>\n",
       "      <td>204.0</td>\n",
       "      <td>79.0</td>\n",
       "      <td>3.0</td>\n",
       "      <td>7.0</td>\n",
       "      <td>3</td>\n",
       "      <td>100</td>\n",
       "    </tr>\n",
       "    <tr>\n",
       "      <th>2</th>\n",
       "      <td>84.0</td>\n",
       "      <td>174.0</td>\n",
       "      <td>74.0</td>\n",
       "      <td>3.0</td>\n",
       "      <td>3.0</td>\n",
       "      <td>2</td>\n",
       "      <td>87</td>\n",
       "    </tr>\n",
       "    <tr>\n",
       "      <th>3</th>\n",
       "      <td>84.0</td>\n",
       "      <td>187.0</td>\n",
       "      <td>78.0</td>\n",
       "      <td>2.0</td>\n",
       "      <td>5.0</td>\n",
       "      <td>3</td>\n",
       "      <td>91</td>\n",
       "    </tr>\n",
       "    <tr>\n",
       "      <th>4</th>\n",
       "      <td>84.0</td>\n",
       "      <td>187.0</td>\n",
       "      <td>89.0</td>\n",
       "      <td>2.0</td>\n",
       "      <td>0.0</td>\n",
       "      <td>2</td>\n",
       "      <td>83</td>\n",
       "    </tr>\n",
       "  </tbody>\n",
       "</table>\n",
       "</div>"
      ],
      "text/plain": [
       "   genetic  length  mass  exercise  alcohol  sugar  lifespan\n",
       "0     84.0   180.0  90.0       2.0      1.0      2        86\n",
       "1     84.0   204.0  79.0       3.0      7.0      3       100\n",
       "2     84.0   174.0  74.0       3.0      3.0      2        87\n",
       "3     84.0   187.0  78.0       2.0      5.0      3        91\n",
       "4     84.0   187.0  89.0       2.0      0.0      2        83"
      ]
     },
     "execution_count": 64,
     "metadata": {},
     "output_type": "execute_result"
    }
   ],
   "source": [
    "# om kolomen uit je datasets te gooien. df_\n",
    "df_drop=df.drop('smoking', axis=1)\n",
    "df_drop.head ()"
   ]
  },
  {
   "cell_type": "code",
   "execution_count": 62,
   "id": "cdf35a65-1608-4e73-9f6b-d9574c104c58",
   "metadata": {},
   "outputs": [
    {
     "data": {
      "text/html": [
       "<div>\n",
       "<style scoped>\n",
       "    .dataframe tbody tr th:only-of-type {\n",
       "        vertical-align: middle;\n",
       "    }\n",
       "\n",
       "    .dataframe tbody tr th {\n",
       "        vertical-align: top;\n",
       "    }\n",
       "\n",
       "    .dataframe thead th {\n",
       "        text-align: right;\n",
       "    }\n",
       "</style>\n",
       "<table border=\"1\" class=\"dataframe\">\n",
       "  <thead>\n",
       "    <tr style=\"text-align: right;\">\n",
       "      <th></th>\n",
       "      <th>dna</th>\n",
       "      <th>length</th>\n",
       "      <th>mass</th>\n",
       "      <th>exercise</th>\n",
       "      <th>smoking</th>\n",
       "      <th>alcohol</th>\n",
       "      <th>sugar</th>\n",
       "      <th>lifespan</th>\n",
       "    </tr>\n",
       "  </thead>\n",
       "  <tbody>\n",
       "    <tr>\n",
       "      <th>0</th>\n",
       "      <td>84.0</td>\n",
       "      <td>180.0</td>\n",
       "      <td>90.0</td>\n",
       "      <td>2.0</td>\n",
       "      <td>9.0</td>\n",
       "      <td>1.0</td>\n",
       "      <td>2</td>\n",
       "      <td>86</td>\n",
       "    </tr>\n",
       "    <tr>\n",
       "      <th>1</th>\n",
       "      <td>84.0</td>\n",
       "      <td>204.0</td>\n",
       "      <td>79.0</td>\n",
       "      <td>3.0</td>\n",
       "      <td>2.0</td>\n",
       "      <td>7.0</td>\n",
       "      <td>3</td>\n",
       "      <td>100</td>\n",
       "    </tr>\n",
       "    <tr>\n",
       "      <th>2</th>\n",
       "      <td>84.0</td>\n",
       "      <td>174.0</td>\n",
       "      <td>74.0</td>\n",
       "      <td>3.0</td>\n",
       "      <td>20.0</td>\n",
       "      <td>3.0</td>\n",
       "      <td>2</td>\n",
       "      <td>87</td>\n",
       "    </tr>\n",
       "    <tr>\n",
       "      <th>3</th>\n",
       "      <td>84.0</td>\n",
       "      <td>187.0</td>\n",
       "      <td>78.0</td>\n",
       "      <td>2.0</td>\n",
       "      <td>6.0</td>\n",
       "      <td>5.0</td>\n",
       "      <td>3</td>\n",
       "      <td>91</td>\n",
       "    </tr>\n",
       "    <tr>\n",
       "      <th>4</th>\n",
       "      <td>84.0</td>\n",
       "      <td>187.0</td>\n",
       "      <td>89.0</td>\n",
       "      <td>2.0</td>\n",
       "      <td>12.0</td>\n",
       "      <td>0.0</td>\n",
       "      <td>2</td>\n",
       "      <td>83</td>\n",
       "    </tr>\n",
       "  </tbody>\n",
       "</table>\n",
       "</div>"
      ],
      "text/plain": [
       "    dna  length  mass  exercise  smoking  alcohol  sugar  lifespan\n",
       "0  84.0   180.0  90.0       2.0      9.0      1.0      2        86\n",
       "1  84.0   204.0  79.0       3.0      2.0      7.0      3       100\n",
       "2  84.0   174.0  74.0       3.0     20.0      3.0      2        87\n",
       "3  84.0   187.0  78.0       2.0      6.0      5.0      3        91\n",
       "4  84.0   187.0  89.0       2.0     12.0      0.0      2        83"
      ]
     },
     "execution_count": 62,
     "metadata": {},
     "output_type": "execute_result"
    }
   ],
   "source": [
    "# om de colomen een ander naampje te geven\n",
    "df_rename=df.rename(columns={\"genetic\":\"dna\"})\n",
    "\n",
    "df_rename.head()"
   ]
  },
  {
   "cell_type": "code",
   "execution_count": 16,
   "id": "01ef5571-79f8-4158-8435-331be4f5d3c5",
   "metadata": {},
   "outputs": [
    {
     "name": "stdout",
     "output_type": "stream",
     "text": [
      "Number of duplicate rows:  (0, 8)\n"
     ]
    }
   ],
   "source": [
    "duplicate_rows_df = df[df.duplicated()]\n",
    "print (\"Number of duplicate rows: \", duplicate_rows_df.shape)"
   ]
  },
  {
   "cell_type": "code",
   "execution_count": 67,
   "id": "fffdea50-2e78-4fc3-aac4-ac43acfbeffa",
   "metadata": {},
   "outputs": [
    {
     "name": "stdout",
     "output_type": "stream",
     "text": [
      "<class 'pandas.core.frame.DataFrame'>\n",
      "Int64Index: 8192 entries, 0 to 8191\n",
      "Data columns (total 8 columns):\n",
      " #   Column    Non-Null Count  Dtype  \n",
      "---  ------    --------------  -----  \n",
      " 0   genetic   8191 non-null   float64\n",
      " 1   length    8190 non-null   float64\n",
      " 2   mass      8191 non-null   float64\n",
      " 3   exercise  8191 non-null   float64\n",
      " 4   smoking   8191 non-null   float64\n",
      " 5   alcohol   8191 non-null   float64\n",
      " 6   sugar     8192 non-null   int64  \n",
      " 7   lifespan  8192 non-null   int64  \n",
      "dtypes: float64(6), int64(2)\n",
      "memory usage: 576.0 KB\n",
      "\n",
      "<class 'pandas.core.frame.DataFrame'>\n",
      "Int64Index: 8192 entries, 0 to 8191\n",
      "Data columns (total 8 columns):\n",
      " #   Column    Non-Null Count  Dtype  \n",
      "---  ------    --------------  -----  \n",
      " 0   genetic   8191 non-null   float64\n",
      " 1   length    8190 non-null   float64\n",
      " 2   mass      8191 non-null   float64\n",
      " 3   exercise  8191 non-null   float64\n",
      " 4   smoking   8191 non-null   float64\n",
      " 5   alcohol   8191 non-null   float64\n",
      " 6   sugar     8192 non-null   int64  \n",
      " 7   lifespan  8192 non-null   int64  \n",
      "dtypes: float64(6), int64(2)\n",
      "memory usage: 576.0 KB\n"
     ]
    }
   ],
   "source": [
    "# verwijder duplicates uit je dataset\n",
    "\n",
    "df_remove_duplicate = df = df.drop_duplicates()\n",
    "df_remove_duplicate.head()\n",
    "\n",
    "df.info()\n",
    "print()\n",
    "df_remove_duplicate.info()"
   ]
  },
  {
   "cell_type": "code",
   "execution_count": 22,
   "id": "a5fb5f9a-b018-46f3-a995-4047d47ca65c",
   "metadata": {},
   "outputs": [
    {
     "name": "stdout",
     "output_type": "stream",
     "text": [
      "genetic     1\n",
      "length      2\n",
      "mass        1\n",
      "exercise    1\n",
      "smoking     1\n",
      "alcohol     1\n",
      "sugar       0\n",
      "lifespan    0\n",
      "dtype: int64\n"
     ]
    }
   ],
   "source": [
    "# any missing values? \n",
    "\n",
    "print(df.isnull().sum())"
   ]
  },
  {
   "cell_type": "code",
   "execution_count": null,
   "id": "f5483a6e-fa4f-4ac9-a644-71916c262e3c",
   "metadata": {},
   "outputs": [],
   "source": [
    "# why is it missing? is it random?\n",
    "# impute or delete?\n",
    "\n",
    "# impute is erg lastig. het past namelijk dingen sals standaard deviatie, etc aan. "
   ]
  },
  {
   "cell_type": "code",
   "execution_count": 77,
   "id": "0cfd22c1-dc1a-4f2d-b94e-fc190fb62728",
   "metadata": {},
   "outputs": [
    {
     "name": "stdout",
     "output_type": "stream",
     "text": [
      "\n",
      "<class 'pandas.core.frame.DataFrame'>\n",
      "Int64Index: 8185 entries, 0 to 8191\n",
      "Data columns (total 8 columns):\n",
      " #   Column    Non-Null Count  Dtype  \n",
      "---  ------    --------------  -----  \n",
      " 0   genetic   8185 non-null   float64\n",
      " 1   length    8185 non-null   float64\n",
      " 2   mass      8185 non-null   float64\n",
      " 3   exercise  8185 non-null   float64\n",
      " 4   smoking   8185 non-null   float64\n",
      " 5   alcohol   8185 non-null   float64\n",
      " 6   sugar     8185 non-null   int64  \n",
      " 7   lifespan  8185 non-null   int64  \n",
      "dtypes: float64(6), int64(2)\n",
      "memory usage: 575.5 KB\n"
     ]
    }
   ],
   "source": [
    "df_dropna = df.dropna(axis = 0)\n",
    "df_dropna.head()\n",
    "print()\n",
    "df_dropna.info()"
   ]
  },
  {
   "cell_type": "code",
   "execution_count": 95,
   "id": "8dd2f3aa-0bf1-49d9-b308-65ea55783207",
   "metadata": {},
   "outputs": [
    {
     "name": "stdout",
     "output_type": "stream",
     "text": [
      "      genetic  length  mass  exercise  smoking  alcohol  sugar  lifespan\n",
      "1421     81.0   188.0  91.0       NaN      0.0     10.0      4        65\n",
      "1631     80.0     NaN  90.0       2.0      7.0      7.0      3        74\n",
      "2146     80.0   169.0  73.0       1.0      1.0      NaN      4        70\n",
      "2519     80.0   181.0  89.0       2.0      NaN      9.0      2        79\n",
      "2556     79.0     NaN  75.0       2.0      0.0      6.0      3        82\n",
      "3433     78.0   176.0   NaN       3.0      3.0      3.0      4        89\n",
      "4095      NaN   177.0  70.0       1.0     22.0      7.0      2        70\n"
     ]
    }
   ],
   "source": [
    "# kijk met isna welke values NaN zijn. met any waar isna true is en selecteer die met loc\n",
    "df_contains_NaN = df.loc[df.isna().any(axis=1)]\n",
    "\n",
    "# print het resultaat\n",
    "print(df_contains_NaN)"
   ]
  },
  {
   "cell_type": "code",
   "execution_count": 34,
   "id": "5171de03-432f-41ed-a435-da538928620e",
   "metadata": {},
   "outputs": [
    {
     "data": {
      "text/plain": [
       "<AxesSubplot: xlabel='lifespan'>"
      ]
     },
     "execution_count": 34,
     "metadata": {},
     "output_type": "execute_result"
    },
    {
     "data": {
      "image/png": "[encoded data removed]",
      "text/plain": [
       "<Figure size 640x480 with 1 Axes>"
      ]
     },
     "metadata": {},
     "output_type": "display_data"
    }
   ],
   "source": [
    "# got any outliers?\n",
    "sns.boxplot(x=df['lifespan'])\n",
    "\n",
    "#... alles buiten de lijnen is een outlier. \n"
   ]
  },
  {
   "cell_type": "code",
   "execution_count": 36,
   "id": "1a32b2f7-7228-43f4-ac53-aad39da005b4",
   "metadata": {},
   "outputs": [
    {
     "name": "stdout",
     "output_type": "stream",
     "text": [
      "genetic      79.0\n",
      "length      174.0\n",
      "mass         70.0\n",
      "exercise      1.0\n",
      "smoking       3.0\n",
      "alcohol       4.0\n",
      "sugar         2.0\n",
      "lifespan     68.0\n",
      "Name: 0.25, dtype: float64\n",
      "\n",
      "genetic      81.0\n",
      "length      193.0\n",
      "mass         88.0\n",
      "exercise      2.0\n",
      "smoking      16.0\n",
      "alcohol       8.0\n",
      "sugar         3.0\n",
      "lifespan     83.0\n",
      "Name: 0.75, dtype: float64\n",
      "\n",
      "genetic      2.0\n",
      "length      19.0\n",
      "mass        18.0\n",
      "exercise     1.0\n",
      "smoking     13.0\n",
      "alcohol      4.0\n",
      "sugar        1.0\n",
      "lifespan    15.0\n",
      "dtype: float64\n"
     ]
    }
   ],
   "source": [
    "Q1 = df.quantile(0.25)\n",
    "Q3 = df.quantile(0.75)\n",
    "IQR = Q3 - Q1\n",
    "print (Q1)\n",
    "print ()\n",
    "print (Q3)\n",
    "print ()\n",
    "print (IQR)\n",
    "\n",
    "# gooi het allemaal maar weg als het zo is. \n",
    "df = df[~((df < (Q1 - 1.5 * IQR)) |(df > (Q3 +1.5*IQR))).any(axis=1)]"
   ]
  },
  {
   "cell_type": "code",
   "execution_count": null,
   "id": "1ae37d7b-aa2f-443c-96f5-118f4fb948eb",
   "metadata": {},
   "outputs": [],
   "source": []
  },
  {
   "cell_type": "code",
   "execution_count": 37,
   "id": "c6e36be1-ec68-4676-a326-47bc2ab9c74c",
   "metadata": {},
   "outputs": [
    {
     "data": {
      "text/plain": [
       "<AxesSubplot: xlabel='lifespan'>"
      ]
     },
     "execution_count": 37,
     "metadata": {},
     "output_type": "execute_result"
    },
    {
     "data": {
      "image/png": "[encoded data removed]",
      "text/plain": [
       "<Figure size 640x480 with 1 Axes>"
      ]
     },
     "metadata": {},
     "output_type": "display_data"
    }
   ],
   "source": [
    "# got any outliers?\n",
    "sns.boxplot(x=df['lifespan'])\n",
    "\n",
    "#... alles buiten de lijnen is een outlier. \n"
   ]
  },
  {
   "cell_type": "code",
   "execution_count": 104,
   "id": "b3818e5e-02fb-4a65-a53d-a0397a136bc7",
   "metadata": {},
   "outputs": [
    {
     "data": {
      "image/png": "[encoded data removed]",
      "text/plain": [
       "<Figure size 1000x500 with 1 Axes>"
      ]
     },
     "metadata": {},
     "output_type": "display_data"
    }
   ],
   "source": [
    "df.lifespan.value_counts().nlargest(40).plot(kind='bar', figsize=(10,5))\n",
    "plt.title(\"smokeing age\")\n",
    "plt.ylabel('smoking')\n",
    "plt.xlabel('lifespan');"
   ]
  },
  {
   "cell_type": "code",
   "execution_count": 48,
   "id": "15f88955-6714-4d8d-b8e8-9c4d8447a166",
   "metadata": {},
   "outputs": [
    {
     "data": {
      "text/plain": [
       "<AxesSubplot: >"
      ]
     },
     "execution_count": 48,
     "metadata": {},
     "output_type": "execute_result"
    },
    {
     "data": {
      "image/png": "[encoded data removed]",
      "text/plain": [
       "<Figure size 640x480 with 2 Axes>"
      ]
     },
     "metadata": {},
     "output_type": "display_data"
    }
   ],
   "source": [
    "# maak een \"heatmap\" matrix om de correlaties te bekijken. \n",
    "\n",
    "\n",
    "sns.heatmap(df.corr(), annot=True)\n"
   ]
  },
  {
   "cell_type": "code",
   "execution_count": null,
   "id": "3ece4b5c-c2b6-4b73-a00d-7f01d00b3267",
   "metadata": {},
   "outputs": [],
   "source": []
  }
 ],
 "metadata": {
  "kernelspec": {
   "display_name": "Python 3 (ipykernel)",
   "language": "python",
   "name": "python3"
  },
  "language_info": {
   "codemirror_mode": {
    "name": "ipython",
    "version": 3
   },
   "file_extension": ".py",
   "mimetype": "text/x-python",
   "name": "python",
   "nbconvert_exporter": "python",
   "pygments_lexer": "ipython3",
   "version": "3.10.9"
  },
  "vscode": {
   "interpreter": {
    "hash": "16bcfd88a3ad44974c8676e0d7f2638be66b07a00473528219adf7fe09483ad9"
   }
  }
 },
 "nbformat": 4,
 "nbformat_minor": 5
}
