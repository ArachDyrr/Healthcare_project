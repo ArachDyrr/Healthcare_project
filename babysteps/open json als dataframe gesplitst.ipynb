{
 "cells": [
  {
   "cell_type": "code",
   "execution_count": 2,
   "id": "cb1c81fc-fad1-440f-9a88-84983c35fa91",
   "metadata": {},
   "outputs": [],
   "source": [
    "# ... go to terminal :  ../rest_server/ \n",
    "# ... run ./start_rest_server.sh\n",
    "# ...\n",
    "# ... import the relevant librairies\n",
    "# ...\n",
    "# ... download from the API with request.get\n",
    "# ... change the response into dictionairy structured as a .json this does also check if the structure is suitable for a .json\n",
    "# ...\n",
    "# ... create a pandas dataframe named df\n",
    "# ...\n",
    "# ... safe the df as a .csv were teh delimiter is a semi colon. \n",
    "\n",
    "\n",
    "\n",
    "import requests\n",
    "import pandas as pd\n",
    "\n",
    "\n",
    "response = requests.get('http://localhost:8080/medish_centrum_randstad/api/netlify?page=1') \n",
    "raw_data = response.json()\n",
    "\n",
    "df = pd.DataFrame.from_dict(raw_data['data']) \n",
    "\n",
    "\n",
    "\n",
    "\n",
    "\n",
    "# print(type(download))\n",
    "# print(type(raw_data))\n",
    "# display(raw_data)\n",
    "# display(df)"
   ]
  },
  {
   "cell_type": "code",
   "execution_count": 3,
   "id": "8ba3fbc7-a4d9-42a1-98b0-a6c5f4912639",
   "metadata": {},
   "outputs": [
    {
     "data": {
      "text/html": [
       "<div>\n",
       "<style scoped>\n",
       "    .dataframe tbody tr th:only-of-type {\n",
       "        vertical-align: middle;\n",
       "    }\n",
       "\n",
       "    .dataframe tbody tr th {\n",
       "        vertical-align: top;\n",
       "    }\n",
       "\n",
       "    .dataframe thead th {\n",
       "        text-align: right;\n",
       "    }\n",
       "</style>\n",
       "<table border=\"1\" class=\"dataframe\">\n",
       "  <thead>\n",
       "    <tr style=\"text-align: right;\">\n",
       "      <th></th>\n",
       "      <th>genetic</th>\n",
       "      <th>length</th>\n",
       "      <th>mass</th>\n",
       "      <th>exercise</th>\n",
       "      <th>smoking</th>\n",
       "      <th>alcohol</th>\n",
       "      <th>sugar</th>\n",
       "      <th>lifespan</th>\n",
       "    </tr>\n",
       "  </thead>\n",
       "  <tbody>\n",
       "    <tr>\n",
       "      <th>0</th>\n",
       "      <td>84.0</td>\n",
       "      <td>180.0</td>\n",
       "      <td>90.0</td>\n",
       "      <td>2.0</td>\n",
       "      <td>9.0</td>\n",
       "      <td>1.0</td>\n",
       "      <td>2</td>\n",
       "      <td>86</td>\n",
       "    </tr>\n",
       "    <tr>\n",
       "      <th>1</th>\n",
       "      <td>84.0</td>\n",
       "      <td>204.0</td>\n",
       "      <td>79.0</td>\n",
       "      <td>3.0</td>\n",
       "      <td>2.0</td>\n",
       "      <td>7.0</td>\n",
       "      <td>3</td>\n",
       "      <td>100</td>\n",
       "    </tr>\n",
       "    <tr>\n",
       "      <th>2</th>\n",
       "      <td>84.0</td>\n",
       "      <td>174.0</td>\n",
       "      <td>74.0</td>\n",
       "      <td>3.0</td>\n",
       "      <td>20.0</td>\n",
       "      <td>3.0</td>\n",
       "      <td>2</td>\n",
       "      <td>87</td>\n",
       "    </tr>\n",
       "    <tr>\n",
       "      <th>3</th>\n",
       "      <td>84.0</td>\n",
       "      <td>187.0</td>\n",
       "      <td>78.0</td>\n",
       "      <td>2.0</td>\n",
       "      <td>6.0</td>\n",
       "      <td>5.0</td>\n",
       "      <td>3</td>\n",
       "      <td>91</td>\n",
       "    </tr>\n",
       "    <tr>\n",
       "      <th>4</th>\n",
       "      <td>84.0</td>\n",
       "      <td>187.0</td>\n",
       "      <td>89.0</td>\n",
       "      <td>2.0</td>\n",
       "      <td>12.0</td>\n",
       "      <td>0.0</td>\n",
       "      <td>2</td>\n",
       "      <td>83</td>\n",
       "    </tr>\n",
       "  </tbody>\n",
       "</table>\n",
       "</div>"
      ],
      "text/plain": [
       "   genetic  length  mass  exercise  smoking  alcohol  sugar  lifespan\n",
       "0     84.0   180.0  90.0       2.0      9.0      1.0      2        86\n",
       "1     84.0   204.0  79.0       3.0      2.0      7.0      3       100\n",
       "2     84.0   174.0  74.0       3.0     20.0      3.0      2        87\n",
       "3     84.0   187.0  78.0       2.0      6.0      5.0      3        91\n",
       "4     84.0   187.0  89.0       2.0     12.0      0.0      2        83"
      ]
     },
     "execution_count": 3,
     "metadata": {},
     "output_type": "execute_result"
    }
   ],
   "source": [
    "df.head()\n"
   ]
  },
  {
   "cell_type": "code",
   "execution_count": null,
   "id": "13ebe25b-a99a-4182-a846-6bd16a824d2c",
   "metadata": {},
   "outputs": [],
   "source": [
    "\n",
    "df.to_csv('../edited_files/raw_data.csv', index=False,sep=';')\n"
   ]
  }
 ],
 "metadata": {
  "kernelspec": {
   "display_name": "Python 3 (ipykernel)",
   "language": "python",
   "name": "python3"
  },
  "language_info": {
   "codemirror_mode": {
    "name": "ipython",
    "version": 3
   },
   "file_extension": ".py",
   "mimetype": "text/x-python",
   "name": "python",
   "nbconvert_exporter": "python",
   "pygments_lexer": "ipython3",
   "version": "3.10.9"
  },
  "vscode": {
   "interpreter": {
    "hash": "16bcfd88a3ad44974c8676e0d7f2638be66b07a00473528219adf7fe09483ad9"
   }
  }
 },
 "nbformat": 4,
 "nbformat_minor": 5
}
