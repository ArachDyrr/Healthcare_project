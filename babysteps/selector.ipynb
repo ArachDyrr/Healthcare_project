{
 "cells": [
  {
   "cell_type": "code",
   "execution_count": 1,
   "metadata": {},
   "outputs": [],
   "source": [
    "# ... import the required librairies\n",
    "\n",
    "\n",
    "import seaborn as sns # Samuel Norman \"Sam\" Seaborn is a fictional character portrayed by Rob Lowe on the television serial drama The West Wing. Hence: sns\n",
    "import pandas as pd\n",
    "import datetime as dt"
   ]
  },
  {
   "cell_type": "code",
   "execution_count": 2,
   "metadata": {},
   "outputs": [
    {
     "data": {
      "text/html": [
       "<div>\n",
       "<style scoped>\n",
       "    .dataframe tbody tr th:only-of-type {\n",
       "        vertical-align: middle;\n",
       "    }\n",
       "\n",
       "    .dataframe tbody tr th {\n",
       "        vertical-align: top;\n",
       "    }\n",
       "\n",
       "    .dataframe thead th {\n",
       "        text-align: right;\n",
       "    }\n",
       "</style>\n",
       "<table border=\"1\" class=\"dataframe\">\n",
       "  <thead>\n",
       "    <tr style=\"text-align: right;\">\n",
       "      <th></th>\n",
       "      <th>genetic</th>\n",
       "      <th>length</th>\n",
       "      <th>mass</th>\n",
       "      <th>exercise</th>\n",
       "      <th>smoking</th>\n",
       "      <th>alcohol</th>\n",
       "      <th>sugar</th>\n",
       "      <th>lifespan</th>\n",
       "    </tr>\n",
       "  </thead>\n",
       "  <tbody>\n",
       "    <tr>\n",
       "      <th>0</th>\n",
       "      <td>73.9</td>\n",
       "      <td>185</td>\n",
       "      <td>99.7</td>\n",
       "      <td>0.9</td>\n",
       "      <td>0.0</td>\n",
       "      <td>2.4</td>\n",
       "      <td>6.9</td>\n",
       "      <td>73.1</td>\n",
       "    </tr>\n",
       "    <tr>\n",
       "      <th>1</th>\n",
       "      <td>86.0</td>\n",
       "      <td>172</td>\n",
       "      <td>105.4</td>\n",
       "      <td>1.8</td>\n",
       "      <td>8.1</td>\n",
       "      <td>0.4</td>\n",
       "      <td>4.2</td>\n",
       "      <td>85.0</td>\n",
       "    </tr>\n",
       "    <tr>\n",
       "      <th>2</th>\n",
       "      <td>83.3</td>\n",
       "      <td>176</td>\n",
       "      <td>111.4</td>\n",
       "      <td>1.1</td>\n",
       "      <td>0.8</td>\n",
       "      <td>4.6</td>\n",
       "      <td>7.5</td>\n",
       "      <td>81.6</td>\n",
       "    </tr>\n",
       "    <tr>\n",
       "      <th>3</th>\n",
       "      <td>82.8</td>\n",
       "      <td>164</td>\n",
       "      <td>111.4</td>\n",
       "      <td>4.7</td>\n",
       "      <td>11.8</td>\n",
       "      <td>1.0</td>\n",
       "      <td>2.9</td>\n",
       "      <td>81.0</td>\n",
       "    </tr>\n",
       "    <tr>\n",
       "      <th>4</th>\n",
       "      <td>78.7</td>\n",
       "      <td>178</td>\n",
       "      <td>71.6</td>\n",
       "      <td>1.5</td>\n",
       "      <td>8.3</td>\n",
       "      <td>4.9</td>\n",
       "      <td>5.5</td>\n",
       "      <td>75.0</td>\n",
       "    </tr>\n",
       "  </tbody>\n",
       "</table>\n",
       "</div>"
      ],
      "text/plain": [
       "  genetic length   mass exercise  smoking alcohol sugar  lifespan\n",
       "0    73.9    185   99.7      0.9      0.0     2.4   6.9      73.1\n",
       "1    86.0    172  105.4      1.8      8.1     0.4   4.2      85.0\n",
       "2    83.3    176  111.4      1.1      0.8     4.6   7.5      81.6\n",
       "3    82.8    164  111.4      4.7     11.8     1.0   2.9      81.0\n",
       "4    78.7    178   71.6      1.5      8.3     4.9   5.5      75.0"
      ]
     },
     "execution_count": 2,
     "metadata": {},
     "output_type": "execute_result"
    }
   ],
   "source": [
    "# ... import the required .csv file. Change the name to the file you prefer to look at. \n",
    "\n",
    "df= pd.read_csv('../data/input_data/data.csv',skipinitialspace=True)\n",
    "df.head()"
   ]
  },
  {
   "cell_type": "code",
   "execution_count": 3,
   "metadata": {},
   "outputs": [
    {
     "data": {
      "text/plain": [
       "genetic     float64\n",
       "length      float64\n",
       "mass        float64\n",
       "exercise    float64\n",
       "smoking     float64\n",
       "alcohol     float64\n",
       "sugar       float64\n",
       "lifespan    float64\n",
       "dtype: object"
      ]
     },
     "execution_count": 3,
     "metadata": {},
     "output_type": "execute_result"
    }
   ],
   "source": [
    "\n",
    "# ... removes turns non-int/non-flo to NaN and removes NaN\n",
    "\n",
    "df['genetic'] = pd.to_numeric(df['genetic'], errors='coerce')\n",
    "df['length'] = pd.to_numeric(df['length'], errors='coerce')\n",
    "df['mass'] = pd.to_numeric(df['mass'], errors='coerce')\n",
    "df['exercise'] = pd.to_numeric(df['exercise'], errors='coerce')\n",
    "df['alcohol'] = pd.to_numeric(df['alcohol'], errors='coerce')\n",
    "df['sugar'] = pd.to_numeric(df['sugar'], errors='coerce')\n",
    "\n",
    "\n",
    "df.astype('float64').dtypes\n",
    "\n"
   ]
  },
  {
   "cell_type": "code",
   "execution_count": 11,
   "metadata": {},
   "outputs": [],
   "source": [
    "# ## ... not used atm \n",
    "# # ... maak een column bmi en een column bmi_category om te kijken of dat impact heeft.  \n",
    "\n",
    "# df['bmi'] = df['mass']/(df['length']/100)**2\n",
    "# df.head()"
   ]
  },
  {
   "cell_type": "code",
   "execution_count": 6,
   "metadata": {},
   "outputs": [
    {
     "name": "stdout",
     "output_type": "stream",
     "text": [
      "We will be looking at \"alcohol\" this time.\n"
     ]
    }
   ],
   "source": [
    "\n",
    "# ... select value to be looked at.\n",
    "\n",
    "key = df.keys()\n",
    "\n",
    "pipe = input('please type the name of the column you want to look at')\n",
    "if pipe in key:\n",
    "    print (f'We will be looking at \"{pipe}\" this time.')\n",
    "else:\n",
    "    print ('Please rerun this field and suply a valid column key.')"
   ]
  },
  {
   "cell_type": "code",
   "execution_count": 7,
   "metadata": {},
   "outputs": [
    {
     "name": "stdout",
     "output_type": "stream",
     "text": [
      "5\n"
     ]
    }
   ],
   "source": [
    "# # ... get a loc  not used atm\n",
    "# dx=df.columns.get_loc(pipe)\n",
    "# print (dx)"
   ]
  },
  {
   "cell_type": "code",
   "execution_count": 10,
   "metadata": {},
   "outputs": [
    {
     "name": "stdout",
     "output_type": "stream",
     "text": [
      "   genetic  length   mass  exercise  smoking  alcohol  sugar  lifespan  \\\n",
      "0     73.9   185.0   99.7       0.9      0.0      2.4    6.9      73.1   \n",
      "1     86.0   172.0  105.4       1.8      8.1      0.4    4.2      85.0   \n",
      "2     83.3   176.0  111.4       1.1      0.8      4.6    7.5      81.6   \n",
      "3     82.8   164.0  111.4       4.7     11.8      1.0    2.9      81.0   \n",
      "4     78.7   178.0   71.6       1.5      8.3      4.9    5.5      75.0   \n",
      "\n",
      "         bmi  \n",
      "0  29.130752  \n",
      "1  35.627366  \n",
      "2  35.963326  \n",
      "3  41.418798  \n",
      "4  22.598157  \n",
      "           genetic       length         mass     exercise      smoking  \\\n",
      "count  4095.000000  4093.000000  4094.000000  4095.000000  4096.000000   \n",
      "mean     82.268352   183.880283    92.268442     2.402125     9.807446   \n",
      "std       7.442579    12.623054    25.791314     1.170062     6.921461   \n",
      "min      63.900000   154.000000    50.000000     0.100000     0.000000   \n",
      "25%      77.600000   175.000000    71.500000     1.500000     3.300000   \n",
      "50%      81.800000   184.000000    89.500000     2.200000     9.500000   \n",
      "75%      86.700000   193.000000   110.875000     3.200000    15.900000   \n",
      "max     102.200000   214.000000   163.600000     5.500000    22.200000   \n",
      "\n",
      "           alcohol        sugar     lifespan          bmi  \n",
      "count  4094.000000  4095.000000  4096.000000  4091.000000  \n",
      "mean      2.264558     6.482955    80.127783    27.680923  \n",
      "std       1.800523     2.710213     8.042270     8.714822  \n",
      "min       0.000000     0.700000    -1.000000    11.320500  \n",
      "25%       0.600000     4.400000    75.000000    20.933229  \n",
      "50%       1.700000     6.300000    79.700000    26.471820  \n",
      "75%       4.000000     8.400000    85.200000    33.213684  \n",
      "max       6.000000    13.800000   105.100000    65.869494  \n"
     ]
    }
   ],
   "source": [
    "print(df.head())\n",
    "print(df.describe())"
   ]
  },
  {
   "cell_type": "code",
   "execution_count": 16,
   "metadata": {},
   "outputs": [],
   "source": [
    "# ... test plot not used atm\n",
    "\n",
    "# got any outliers?\n",
    "# sns.boxplot(x=df['lifespan'])\n",
    "\n",
    "# sns.boxplot(df[pipe])\n",
    "\n",
    "\n",
    "#... alles buiten de lijnen is een outlier. "
   ]
  },
  {
   "cell_type": "code",
   "execution_count": 14,
   "metadata": {},
   "outputs": [],
   "source": [
    "# ... safe the data from this notebook as a csv in the folder output \n",
    "\n",
    "df.to_csv('../data/output_data/data_{}_{}.csv'.format(pipe,dt.datetime.now().strftime(\"%Y-%m-%d %H-%M\")), index=False,sep=';')"
   ]
  }
 ],
 "metadata": {
  "kernelspec": {
   "display_name": "Python 3 (ipykernel)",
   "language": "python",
   "name": "python3"
  },
  "language_info": {
   "codemirror_mode": {
    "name": "ipython",
    "version": 3
   },
   "file_extension": ".py",
   "mimetype": "text/x-python",
   "name": "python",
   "nbconvert_exporter": "python",
   "pygments_lexer": "ipython3",
   "version": "3.10.9"
  }
 },
 "nbformat": 4,
 "nbformat_minor": 4
}
